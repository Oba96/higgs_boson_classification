{
 "cells": [
  {
   "cell_type": "code",
   "execution_count": 1,
   "metadata": {},
   "outputs": [
    {
     "name": "stdout",
     "output_type": "stream",
     "text": [
      "Dask Version: 2021.01.0\n",
      "cuDF Version: 0.18.0a+172.g835ccf9c11\n",
      "Pandas Version: 1.1.5\n",
      "cuML Version: 0.18.0a+63.gae7e4442a\n"
     ]
    }
   ],
   "source": [
    "import time\n",
    "\n",
    "#importing the libraries for processing the data\n",
    "import dask; print('Dask Version:', dask.__version__)\n",
    "import dask_cudf\n",
    "import cudf; print('cuDF Version:', cudf.__version__)\n",
    "import pandas as pd; print('Pandas Version:', pd.__version__)\n",
    "from numba import cuda\n",
    "import cupy as cp\n",
    "from numba import cuda\n",
    "\n",
    "#importing the libries for the classification in cuml\n",
    "import cuml; print('cuML Version:', cuml.__version__)\n",
    "from cuml import RandomForestClassifier as cuRF\n",
    "from cuml.linear_model import LogisticRegression\n",
    "from cuml.decomposition import PCA as PCA_GPU\n",
    "cuml.set_global_output_type('numpy')\n",
    "from cuml import PCA\n",
    "\n",
    "#import library \n",
    "import numpy as np\n",
    "\n",
    "#importing libaries from sklearn for the classification and managing the data \n",
    "import sklearn\n",
    "from sklearn.preprocessing import normalize\n",
    "from sklearn.preprocessing import StandardScaler\n",
    "from sklearn.model_selection import train_test_split\n",
    "from sklearn.ensemble import RandomForestClassifier as sklRF\n",
    "from sklearn.linear_model import LogisticRegression as logis\n",
    "from sklearn.svm import SVC\n",
    "from sklearn.metrics import accuracy_score\n",
    "from sklearn.metrics import confusion_matrix,classification_report\n",
    "from sklearn.metrics import roc_curve\n",
    "from sklearn.metrics import roc_auc_score\n",
    "\n",
    "#importing libaries for plotting graphs and maps\n",
    "import matplotlib.pyplot as plt\n",
    "import seaborn as sns\n",
    "from matplotlib.colors import ListedColormap\n",
    "\n",
    "#overpass warning errors\n",
    "import warnings\n",
    "cuml.set_global_output_type('numpy')\n",
    "warnings.filterwarnings('ignore')\n",
    "\n",
    "%matplotlib inline"
   ]
  },
  {
   "cell_type": "code",
   "execution_count": 2,
   "metadata": {},
   "outputs": [],
   "source": [
    "df = dask_cudf.read_csv(\"Partical.csv\" , names =[\"Label\", \"lepton pT\", \"lepton eta\", \"lepton phi\", \"missing energy magnitude\", \"missing energy phi\", \n",
    "        \"jet 1 pt\", \"jet 1 eta\", \"jet 1 phi\", \"jet 1 b-tag\", \"jet 2 pt\", \"jet 2 eta\", \n",
    "        \"jet 2 phi\", \"jet 2 b-tag\", \"jet 3 pt\", \"jet 3 eta\", \"jet 3 phi\", \"jet 3 b-tag\",\n",
    "        \"jet 4 pt\", \"jet 4 eta\", \"jet 4 phi\", \"jet 4 b-tag\", \"m_jj\", \"m_jjj\",\n",
    "        \"m_lv\", \"m_jlv\", \"m_bb\", \"m_wbb\", \"m_wwbb\"], chunksize= '2000 Mib')"
   ]
  },
  {
   "cell_type": "markdown",
   "metadata": {},
   "source": [
    "I loaded the dataset by using dask_cudf becuase with cudf_read.csv the dataset was too large to fit into  this machine memory. A name was given to the columns. I also decided to break up the datasetin array) into chunks to 2 gb."
   ]
  },
  {
   "cell_type": "code",
   "execution_count": 3,
   "metadata": {},
   "outputs": [],
   "source": [
    "df = df.sample(frac=0.5)"
   ]
  },
  {
   "cell_type": "markdown",
   "metadata": {},
   "source": [
    "This code is about passing only the 50% of the dataset. This was done because the dataset is huge and it can not fit in the machine memory."
   ]
  },
  {
   "cell_type": "code",
   "execution_count": 4,
   "metadata": {},
   "outputs": [
    {
     "data": {
      "text/plain": [
       "dask_cudf.core.DataFrame"
      ]
     },
     "execution_count": 4,
     "metadata": {},
     "output_type": "execute_result"
    }
   ],
   "source": [
    "type(df)"
   ]
  },
  {
   "cell_type": "code",
   "execution_count": 5,
   "metadata": {},
   "outputs": [],
   "source": [
    "df = df.compute()"
   ]
  },
  {
   "cell_type": "markdown",
   "metadata": {},
   "source": [
    "in this code, i compute the original dataset so now instead of working dask and i can start working rapids and cudf."
   ]
  },
  {
   "cell_type": "code",
   "execution_count": 6,
   "metadata": {},
   "outputs": [
    {
     "data": {
      "text/plain": [
       "cudf.core.dataframe.DataFrame"
      ]
     },
     "execution_count": 6,
     "metadata": {},
     "output_type": "execute_result"
    }
   ],
   "source": [
    "type(df)"
   ]
  },
  {
   "cell_type": "markdown",
   "metadata": {},
   "source": [
    "now the type of the dataset is in cudf dataframe"
   ]
  },
  {
   "cell_type": "code",
   "execution_count": 7,
   "metadata": {},
   "outputs": [
    {
     "data": {
      "text/html": [
       "<div>\n",
       "<style scoped>\n",
       "    .dataframe tbody tr th:only-of-type {\n",
       "        vertical-align: middle;\n",
       "    }\n",
       "\n",
       "    .dataframe tbody tr th {\n",
       "        vertical-align: top;\n",
       "    }\n",
       "\n",
       "    .dataframe thead th {\n",
       "        text-align: right;\n",
       "    }\n",
       "</style>\n",
       "<table border=\"1\" class=\"dataframe\">\n",
       "  <thead>\n",
       "    <tr style=\"text-align: right;\">\n",
       "      <th></th>\n",
       "      <th>Label</th>\n",
       "      <th>lepton pT</th>\n",
       "      <th>lepton eta</th>\n",
       "      <th>lepton phi</th>\n",
       "      <th>missing energy magnitude</th>\n",
       "      <th>missing energy phi</th>\n",
       "      <th>jet 1 pt</th>\n",
       "      <th>jet 1 eta</th>\n",
       "      <th>jet 1 phi</th>\n",
       "      <th>jet 1 b-tag</th>\n",
       "      <th>...</th>\n",
       "      <th>jet 4 eta</th>\n",
       "      <th>jet 4 phi</th>\n",
       "      <th>jet 4 b-tag</th>\n",
       "      <th>m_jj</th>\n",
       "      <th>m_jjj</th>\n",
       "      <th>m_lv</th>\n",
       "      <th>m_jlv</th>\n",
       "      <th>m_bb</th>\n",
       "      <th>m_wbb</th>\n",
       "      <th>m_wwbb</th>\n",
       "    </tr>\n",
       "  </thead>\n",
       "  <tbody>\n",
       "    <tr>\n",
       "      <th>2869095</th>\n",
       "      <td>1.0</td>\n",
       "      <td>0.740821</td>\n",
       "      <td>-0.266922</td>\n",
       "      <td>-0.082360</td>\n",
       "      <td>0.822232</td>\n",
       "      <td>-1.005514</td>\n",
       "      <td>0.257966</td>\n",
       "      <td>1.560577</td>\n",
       "      <td>0.021782</td>\n",
       "      <td>0.000000</td>\n",
       "      <td>...</td>\n",
       "      <td>2.412228</td>\n",
       "      <td>-1.370900</td>\n",
       "      <td>0.000000</td>\n",
       "      <td>0.801033</td>\n",
       "      <td>0.766706</td>\n",
       "      <td>0.986567</td>\n",
       "      <td>0.576853</td>\n",
       "      <td>0.637052</td>\n",
       "      <td>0.868691</td>\n",
       "      <td>0.933099</td>\n",
       "    </tr>\n",
       "    <tr>\n",
       "      <th>2869094</th>\n",
       "      <td>1.0</td>\n",
       "      <td>1.402033</td>\n",
       "      <td>1.197927</td>\n",
       "      <td>-1.026737</td>\n",
       "      <td>0.957519</td>\n",
       "      <td>-0.395620</td>\n",
       "      <td>0.851581</td>\n",
       "      <td>-0.313928</td>\n",
       "      <td>0.577266</td>\n",
       "      <td>2.173076</td>\n",
       "      <td>...</td>\n",
       "      <td>-0.028777</td>\n",
       "      <td>0.906565</td>\n",
       "      <td>0.000000</td>\n",
       "      <td>0.787752</td>\n",
       "      <td>0.805812</td>\n",
       "      <td>0.985856</td>\n",
       "      <td>1.097103</td>\n",
       "      <td>0.966760</td>\n",
       "      <td>1.060326</td>\n",
       "      <td>0.865942</td>\n",
       "    </tr>\n",
       "    <tr>\n",
       "      <th>2869093</th>\n",
       "      <td>1.0</td>\n",
       "      <td>1.051387</td>\n",
       "      <td>1.569984</td>\n",
       "      <td>-0.266574</td>\n",
       "      <td>1.552940</td>\n",
       "      <td>1.172384</td>\n",
       "      <td>0.498618</td>\n",
       "      <td>2.144812</td>\n",
       "      <td>1.724823</td>\n",
       "      <td>0.000000</td>\n",
       "      <td>...</td>\n",
       "      <td>1.040568</td>\n",
       "      <td>0.209040</td>\n",
       "      <td>3.101961</td>\n",
       "      <td>1.772606</td>\n",
       "      <td>1.087739</td>\n",
       "      <td>1.704331</td>\n",
       "      <td>1.174295</td>\n",
       "      <td>0.583654</td>\n",
       "      <td>0.846972</td>\n",
       "      <td>0.874266</td>\n",
       "    </tr>\n",
       "    <tr>\n",
       "      <th>2869092</th>\n",
       "      <td>1.0</td>\n",
       "      <td>0.847698</td>\n",
       "      <td>1.554400</td>\n",
       "      <td>-1.159349</td>\n",
       "      <td>1.059122</td>\n",
       "      <td>1.054662</td>\n",
       "      <td>0.869811</td>\n",
       "      <td>0.598073</td>\n",
       "      <td>-0.025997</td>\n",
       "      <td>2.173076</td>\n",
       "      <td>...</td>\n",
       "      <td>1.311236</td>\n",
       "      <td>0.847744</td>\n",
       "      <td>0.000000</td>\n",
       "      <td>0.657516</td>\n",
       "      <td>0.861909</td>\n",
       "      <td>1.196033</td>\n",
       "      <td>1.137441</td>\n",
       "      <td>1.196455</td>\n",
       "      <td>0.893821</td>\n",
       "      <td>0.861369</td>\n",
       "    </tr>\n",
       "    <tr>\n",
       "      <th>2869091</th>\n",
       "      <td>0.0</td>\n",
       "      <td>1.075544</td>\n",
       "      <td>1.011899</td>\n",
       "      <td>-1.131051</td>\n",
       "      <td>0.659690</td>\n",
       "      <td>-1.127343</td>\n",
       "      <td>1.318778</td>\n",
       "      <td>0.493109</td>\n",
       "      <td>0.203062</td>\n",
       "      <td>0.000000</td>\n",
       "      <td>...</td>\n",
       "      <td>1.584402</td>\n",
       "      <td>-1.578992</td>\n",
       "      <td>0.000000</td>\n",
       "      <td>0.348883</td>\n",
       "      <td>0.620397</td>\n",
       "      <td>0.989246</td>\n",
       "      <td>0.601878</td>\n",
       "      <td>0.560855</td>\n",
       "      <td>0.612318</td>\n",
       "      <td>0.647955</td>\n",
       "    </tr>\n",
       "  </tbody>\n",
       "</table>\n",
       "<p>5 rows × 29 columns</p>\n",
       "</div>"
      ],
      "text/plain": [
       "         Label  lepton pT  lepton eta  lepton phi  missing energy magnitude  \\\n",
       "2869095    1.0   0.740821   -0.266922   -0.082360                  0.822232   \n",
       "2869094    1.0   1.402033    1.197927   -1.026737                  0.957519   \n",
       "2869093    1.0   1.051387    1.569984   -0.266574                  1.552940   \n",
       "2869092    1.0   0.847698    1.554400   -1.159349                  1.059122   \n",
       "2869091    0.0   1.075544    1.011899   -1.131051                  0.659690   \n",
       "\n",
       "         missing energy phi  jet 1 pt  jet 1 eta  jet 1 phi  jet 1 b-tag  ...  \\\n",
       "2869095           -1.005514  0.257966   1.560577   0.021782     0.000000  ...   \n",
       "2869094           -0.395620  0.851581  -0.313928   0.577266     2.173076  ...   \n",
       "2869093            1.172384  0.498618   2.144812   1.724823     0.000000  ...   \n",
       "2869092            1.054662  0.869811   0.598073  -0.025997     2.173076  ...   \n",
       "2869091           -1.127343  1.318778   0.493109   0.203062     0.000000  ...   \n",
       "\n",
       "         jet 4 eta  jet 4 phi  jet 4 b-tag      m_jj     m_jjj      m_lv  \\\n",
       "2869095   2.412228  -1.370900     0.000000  0.801033  0.766706  0.986567   \n",
       "2869094  -0.028777   0.906565     0.000000  0.787752  0.805812  0.985856   \n",
       "2869093   1.040568   0.209040     3.101961  1.772606  1.087739  1.704331   \n",
       "2869092   1.311236   0.847744     0.000000  0.657516  0.861909  1.196033   \n",
       "2869091   1.584402  -1.578992     0.000000  0.348883  0.620397  0.989246   \n",
       "\n",
       "            m_jlv      m_bb     m_wbb    m_wwbb  \n",
       "2869095  0.576853  0.637052  0.868691  0.933099  \n",
       "2869094  1.097103  0.966760  1.060326  0.865942  \n",
       "2869093  1.174295  0.583654  0.846972  0.874266  \n",
       "2869092  1.137441  1.196455  0.893821  0.861369  \n",
       "2869091  0.601878  0.560855  0.612318  0.647955  \n",
       "\n",
       "[5 rows x 29 columns]"
      ]
     },
     "execution_count": 7,
     "metadata": {},
     "output_type": "execute_result"
    }
   ],
   "source": [
    "df.head()"
   ]
  },
  {
   "cell_type": "code",
   "execution_count": 8,
   "metadata": {},
   "outputs": [
    {
     "data": {
      "text/html": [
       "<div>\n",
       "<style scoped>\n",
       "    .dataframe tbody tr th:only-of-type {\n",
       "        vertical-align: middle;\n",
       "    }\n",
       "\n",
       "    .dataframe tbody tr th {\n",
       "        vertical-align: top;\n",
       "    }\n",
       "\n",
       "    .dataframe thead th {\n",
       "        text-align: right;\n",
       "    }\n",
       "</style>\n",
       "<table border=\"1\" class=\"dataframe\">\n",
       "  <thead>\n",
       "    <tr style=\"text-align: right;\">\n",
       "      <th></th>\n",
       "      <th>Label</th>\n",
       "      <th>lepton pT</th>\n",
       "      <th>lepton eta</th>\n",
       "      <th>lepton phi</th>\n",
       "      <th>missing energy magnitude</th>\n",
       "      <th>missing energy phi</th>\n",
       "      <th>jet 1 pt</th>\n",
       "      <th>jet 1 eta</th>\n",
       "      <th>jet 1 phi</th>\n",
       "      <th>jet 1 b-tag</th>\n",
       "      <th>...</th>\n",
       "      <th>jet 4 eta</th>\n",
       "      <th>jet 4 phi</th>\n",
       "      <th>jet 4 b-tag</th>\n",
       "      <th>m_jj</th>\n",
       "      <th>m_jjj</th>\n",
       "      <th>m_lv</th>\n",
       "      <th>m_jlv</th>\n",
       "      <th>m_bb</th>\n",
       "      <th>m_wbb</th>\n",
       "      <th>m_wwbb</th>\n",
       "    </tr>\n",
       "  </thead>\n",
       "  <tbody>\n",
       "    <tr>\n",
       "      <th>count</th>\n",
       "      <td>5.500001e+06</td>\n",
       "      <td>5.500001e+06</td>\n",
       "      <td>5.500001e+06</td>\n",
       "      <td>5.500001e+06</td>\n",
       "      <td>5.500001e+06</td>\n",
       "      <td>5.500001e+06</td>\n",
       "      <td>5.500001e+06</td>\n",
       "      <td>5.500001e+06</td>\n",
       "      <td>5.500001e+06</td>\n",
       "      <td>5.500001e+06</td>\n",
       "      <td>...</td>\n",
       "      <td>5.500001e+06</td>\n",
       "      <td>5.500001e+06</td>\n",
       "      <td>5.500001e+06</td>\n",
       "      <td>5.500001e+06</td>\n",
       "      <td>5.500001e+06</td>\n",
       "      <td>5.500001e+06</td>\n",
       "      <td>5.500001e+06</td>\n",
       "      <td>5.500001e+06</td>\n",
       "      <td>5.500001e+06</td>\n",
       "      <td>5.500001e+06</td>\n",
       "    </tr>\n",
       "    <tr>\n",
       "      <th>mean</th>\n",
       "      <td>5.296540e-01</td>\n",
       "      <td>9.916460e-01</td>\n",
       "      <td>2.460000e-04</td>\n",
       "      <td>3.200000e-04</td>\n",
       "      <td>9.987710e-01</td>\n",
       "      <td>3.200000e-05</td>\n",
       "      <td>9.909210e-01</td>\n",
       "      <td>-1.730000e-04</td>\n",
       "      <td>-1.660000e-04</td>\n",
       "      <td>9.999120e-01</td>\n",
       "      <td>...</td>\n",
       "      <td>1.100000e-05</td>\n",
       "      <td>-9.300000e-05</td>\n",
       "      <td>9.995720e-01</td>\n",
       "      <td>1.034355e+00</td>\n",
       "      <td>1.024840e+00</td>\n",
       "      <td>1.050506e+00</td>\n",
       "      <td>1.009794e+00</td>\n",
       "      <td>9.727570e-01</td>\n",
       "      <td>1.033081e+00</td>\n",
       "      <td>9.598460e-01</td>\n",
       "    </tr>\n",
       "    <tr>\n",
       "      <th>std</th>\n",
       "      <td>4.991200e-01</td>\n",
       "      <td>5.654390e-01</td>\n",
       "      <td>1.008624e+00</td>\n",
       "      <td>1.006383e+00</td>\n",
       "      <td>6.001820e-01</td>\n",
       "      <td>1.006345e+00</td>\n",
       "      <td>4.750970e-01</td>\n",
       "      <td>1.009475e+00</td>\n",
       "      <td>1.005944e+00</td>\n",
       "      <td>1.027807e+00</td>\n",
       "      <td>...</td>\n",
       "      <td>1.007692e+00</td>\n",
       "      <td>1.006521e+00</td>\n",
       "      <td>1.400061e+00</td>\n",
       "      <td>6.750180e-01</td>\n",
       "      <td>3.811900e-01</td>\n",
       "      <td>1.644180e-01</td>\n",
       "      <td>3.974130e-01</td>\n",
       "      <td>5.251490e-01</td>\n",
       "      <td>3.652410e-01</td>\n",
       "      <td>3.131500e-01</td>\n",
       "    </tr>\n",
       "    <tr>\n",
       "      <th>min</th>\n",
       "      <td>0.000000e+00</td>\n",
       "      <td>2.746970e-01</td>\n",
       "      <td>-2.434976e+00</td>\n",
       "      <td>-1.742508e+00</td>\n",
       "      <td>2.370000e-04</td>\n",
       "      <td>-1.743944e+00</td>\n",
       "      <td>1.375940e-01</td>\n",
       "      <td>-2.969725e+00</td>\n",
       "      <td>-1.741237e+00</td>\n",
       "      <td>0.000000e+00</td>\n",
       "      <td>...</td>\n",
       "      <td>-2.497265e+00</td>\n",
       "      <td>-1.742691e+00</td>\n",
       "      <td>0.000000e+00</td>\n",
       "      <td>7.900900e-02</td>\n",
       "      <td>1.986760e-01</td>\n",
       "      <td>9.105600e-02</td>\n",
       "      <td>1.320060e-01</td>\n",
       "      <td>4.975700e-02</td>\n",
       "      <td>2.951120e-01</td>\n",
       "      <td>3.474430e-01</td>\n",
       "    </tr>\n",
       "    <tr>\n",
       "      <th>25%</th>\n",
       "      <td>0.000000e+00</td>\n",
       "      <td>5.907530e-01</td>\n",
       "      <td>-7.383220e-01</td>\n",
       "      <td>-8.713760e-01</td>\n",
       "      <td>5.769010e-01</td>\n",
       "      <td>-8.708860e-01</td>\n",
       "      <td>6.789010e-01</td>\n",
       "      <td>-6.882350e-01</td>\n",
       "      <td>-8.686510e-01</td>\n",
       "      <td>0.000000e+00</td>\n",
       "      <td>...</td>\n",
       "      <td>-7.133570e-01</td>\n",
       "      <td>-8.725890e-01</td>\n",
       "      <td>0.000000e+00</td>\n",
       "      <td>7.906070e-01</td>\n",
       "      <td>8.461430e-01</td>\n",
       "      <td>9.857500e-01</td>\n",
       "      <td>7.676650e-01</td>\n",
       "      <td>6.735120e-01</td>\n",
       "      <td>8.193810e-01</td>\n",
       "      <td>7.704290e-01</td>\n",
       "    </tr>\n",
       "    <tr>\n",
       "      <th>50%</th>\n",
       "      <td>1.000000e+00</td>\n",
       "      <td>8.535540e-01</td>\n",
       "      <td>9.200000e-04</td>\n",
       "      <td>4.170000e-04</td>\n",
       "      <td>8.918460e-01</td>\n",
       "      <td>6.000000e-06</td>\n",
       "      <td>8.947280e-01</td>\n",
       "      <td>-2.500000e-05</td>\n",
       "      <td>-4.960000e-04</td>\n",
       "      <td>1.086538e+00</td>\n",
       "      <td>...</td>\n",
       "      <td>3.720000e-04</td>\n",
       "      <td>-8.190000e-04</td>\n",
       "      <td>0.000000e+00</td>\n",
       "      <td>8.949360e-01</td>\n",
       "      <td>9.506070e-01</td>\n",
       "      <td>9.897770e-01</td>\n",
       "      <td>9.165470e-01</td>\n",
       "      <td>8.732450e-01</td>\n",
       "      <td>9.472760e-01</td>\n",
       "      <td>8.720030e-01</td>\n",
       "    </tr>\n",
       "    <tr>\n",
       "      <th>75%</th>\n",
       "      <td>1.000000e+00</td>\n",
       "      <td>1.236409e+00</td>\n",
       "      <td>7.382140e-01</td>\n",
       "      <td>8.715490e-01</td>\n",
       "      <td>1.293654e+00</td>\n",
       "      <td>8.714540e-01</td>\n",
       "      <td>1.170649e+00</td>\n",
       "      <td>6.871940e-01</td>\n",
       "      <td>8.683130e-01</td>\n",
       "      <td>2.173076e+00</td>\n",
       "      <td>...</td>\n",
       "      <td>7.132690e-01</td>\n",
       "      <td>8.716050e-01</td>\n",
       "      <td>3.101961e+00</td>\n",
       "      <td>1.024754e+00</td>\n",
       "      <td>1.083404e+00</td>\n",
       "      <td>1.020349e+00</td>\n",
       "      <td>1.142164e+00</td>\n",
       "      <td>1.138573e+00</td>\n",
       "      <td>1.140432e+00</td>\n",
       "      <td>1.059326e+00</td>\n",
       "    </tr>\n",
       "    <tr>\n",
       "      <th>max</th>\n",
       "      <td>1.000000e+00</td>\n",
       "      <td>1.167397e+01</td>\n",
       "      <td>2.434868e+00</td>\n",
       "      <td>1.743236e+00</td>\n",
       "      <td>1.539682e+01</td>\n",
       "      <td>1.743257e+00</td>\n",
       "      <td>8.848616e+00</td>\n",
       "      <td>2.969674e+00</td>\n",
       "      <td>1.741454e+00</td>\n",
       "      <td>2.173076e+00</td>\n",
       "      <td>...</td>\n",
       "      <td>2.498009e+00</td>\n",
       "      <td>1.743372e+00</td>\n",
       "      <td>3.101961e+00</td>\n",
       "      <td>3.107619e+01</td>\n",
       "      <td>1.563786e+01</td>\n",
       "      <td>7.553898e+00</td>\n",
       "      <td>1.289145e+01</td>\n",
       "      <td>1.776285e+01</td>\n",
       "      <td>8.779915e+00</td>\n",
       "      <td>6.966903e+00</td>\n",
       "    </tr>\n",
       "  </tbody>\n",
       "</table>\n",
       "<p>8 rows × 29 columns</p>\n",
       "</div>"
      ],
      "text/plain": [
       "              Label     lepton pT    lepton eta    lepton phi  \\\n",
       "count  5.500001e+06  5.500001e+06  5.500001e+06  5.500001e+06   \n",
       "mean   5.296540e-01  9.916460e-01  2.460000e-04  3.200000e-04   \n",
       "std    4.991200e-01  5.654390e-01  1.008624e+00  1.006383e+00   \n",
       "min    0.000000e+00  2.746970e-01 -2.434976e+00 -1.742508e+00   \n",
       "25%    0.000000e+00  5.907530e-01 -7.383220e-01 -8.713760e-01   \n",
       "50%    1.000000e+00  8.535540e-01  9.200000e-04  4.170000e-04   \n",
       "75%    1.000000e+00  1.236409e+00  7.382140e-01  8.715490e-01   \n",
       "max    1.000000e+00  1.167397e+01  2.434868e+00  1.743236e+00   \n",
       "\n",
       "       missing energy magnitude  missing energy phi      jet 1 pt  \\\n",
       "count              5.500001e+06        5.500001e+06  5.500001e+06   \n",
       "mean               9.987710e-01        3.200000e-05  9.909210e-01   \n",
       "std                6.001820e-01        1.006345e+00  4.750970e-01   \n",
       "min                2.370000e-04       -1.743944e+00  1.375940e-01   \n",
       "25%                5.769010e-01       -8.708860e-01  6.789010e-01   \n",
       "50%                8.918460e-01        6.000000e-06  8.947280e-01   \n",
       "75%                1.293654e+00        8.714540e-01  1.170649e+00   \n",
       "max                1.539682e+01        1.743257e+00  8.848616e+00   \n",
       "\n",
       "          jet 1 eta     jet 1 phi   jet 1 b-tag  ...     jet 4 eta  \\\n",
       "count  5.500001e+06  5.500001e+06  5.500001e+06  ...  5.500001e+06   \n",
       "mean  -1.730000e-04 -1.660000e-04  9.999120e-01  ...  1.100000e-05   \n",
       "std    1.009475e+00  1.005944e+00  1.027807e+00  ...  1.007692e+00   \n",
       "min   -2.969725e+00 -1.741237e+00  0.000000e+00  ... -2.497265e+00   \n",
       "25%   -6.882350e-01 -8.686510e-01  0.000000e+00  ... -7.133570e-01   \n",
       "50%   -2.500000e-05 -4.960000e-04  1.086538e+00  ...  3.720000e-04   \n",
       "75%    6.871940e-01  8.683130e-01  2.173076e+00  ...  7.132690e-01   \n",
       "max    2.969674e+00  1.741454e+00  2.173076e+00  ...  2.498009e+00   \n",
       "\n",
       "          jet 4 phi   jet 4 b-tag          m_jj         m_jjj          m_lv  \\\n",
       "count  5.500001e+06  5.500001e+06  5.500001e+06  5.500001e+06  5.500001e+06   \n",
       "mean  -9.300000e-05  9.995720e-01  1.034355e+00  1.024840e+00  1.050506e+00   \n",
       "std    1.006521e+00  1.400061e+00  6.750180e-01  3.811900e-01  1.644180e-01   \n",
       "min   -1.742691e+00  0.000000e+00  7.900900e-02  1.986760e-01  9.105600e-02   \n",
       "25%   -8.725890e-01  0.000000e+00  7.906070e-01  8.461430e-01  9.857500e-01   \n",
       "50%   -8.190000e-04  0.000000e+00  8.949360e-01  9.506070e-01  9.897770e-01   \n",
       "75%    8.716050e-01  3.101961e+00  1.024754e+00  1.083404e+00  1.020349e+00   \n",
       "max    1.743372e+00  3.101961e+00  3.107619e+01  1.563786e+01  7.553898e+00   \n",
       "\n",
       "              m_jlv          m_bb         m_wbb        m_wwbb  \n",
       "count  5.500001e+06  5.500001e+06  5.500001e+06  5.500001e+06  \n",
       "mean   1.009794e+00  9.727570e-01  1.033081e+00  9.598460e-01  \n",
       "std    3.974130e-01  5.251490e-01  3.652410e-01  3.131500e-01  \n",
       "min    1.320060e-01  4.975700e-02  2.951120e-01  3.474430e-01  \n",
       "25%    7.676650e-01  6.735120e-01  8.193810e-01  7.704290e-01  \n",
       "50%    9.165470e-01  8.732450e-01  9.472760e-01  8.720030e-01  \n",
       "75%    1.142164e+00  1.138573e+00  1.140432e+00  1.059326e+00  \n",
       "max    1.289145e+01  1.776285e+01  8.779915e+00  6.966903e+00  \n",
       "\n",
       "[8 rows x 29 columns]"
      ]
     },
     "execution_count": 8,
     "metadata": {},
     "output_type": "execute_result"
    }
   ],
   "source": [
    "df.describe()"
   ]
  },
  {
   "cell_type": "code",
   "execution_count": 9,
   "metadata": {},
   "outputs": [
    {
     "data": {
      "text/html": [
       "<div>\n",
       "<style scoped>\n",
       "    .dataframe tbody tr th:only-of-type {\n",
       "        vertical-align: middle;\n",
       "    }\n",
       "\n",
       "    .dataframe tbody tr th {\n",
       "        vertical-align: top;\n",
       "    }\n",
       "\n",
       "    .dataframe thead th {\n",
       "        text-align: right;\n",
       "    }\n",
       "</style>\n",
       "<table border=\"1\" class=\"dataframe\">\n",
       "  <thead>\n",
       "    <tr style=\"text-align: right;\">\n",
       "      <th></th>\n",
       "      <th>Label</th>\n",
       "      <th>lepton pT</th>\n",
       "      <th>lepton eta</th>\n",
       "      <th>lepton phi</th>\n",
       "      <th>missing energy magnitude</th>\n",
       "      <th>missing energy phi</th>\n",
       "      <th>jet 1 pt</th>\n",
       "      <th>jet 1 eta</th>\n",
       "      <th>jet 1 phi</th>\n",
       "      <th>jet 1 b-tag</th>\n",
       "      <th>...</th>\n",
       "      <th>jet 4 eta</th>\n",
       "      <th>jet 4 phi</th>\n",
       "      <th>jet 4 b-tag</th>\n",
       "      <th>m_jj</th>\n",
       "      <th>m_jjj</th>\n",
       "      <th>m_lv</th>\n",
       "      <th>m_jlv</th>\n",
       "      <th>m_bb</th>\n",
       "      <th>m_wbb</th>\n",
       "      <th>m_wwbb</th>\n",
       "    </tr>\n",
       "  </thead>\n",
       "  <tbody>\n",
       "    <tr>\n",
       "      <th>2869095</th>\n",
       "      <td>False</td>\n",
       "      <td>False</td>\n",
       "      <td>False</td>\n",
       "      <td>False</td>\n",
       "      <td>False</td>\n",
       "      <td>False</td>\n",
       "      <td>False</td>\n",
       "      <td>False</td>\n",
       "      <td>False</td>\n",
       "      <td>False</td>\n",
       "      <td>...</td>\n",
       "      <td>False</td>\n",
       "      <td>False</td>\n",
       "      <td>False</td>\n",
       "      <td>False</td>\n",
       "      <td>False</td>\n",
       "      <td>False</td>\n",
       "      <td>False</td>\n",
       "      <td>False</td>\n",
       "      <td>False</td>\n",
       "      <td>False</td>\n",
       "    </tr>\n",
       "    <tr>\n",
       "      <th>2869094</th>\n",
       "      <td>False</td>\n",
       "      <td>False</td>\n",
       "      <td>False</td>\n",
       "      <td>False</td>\n",
       "      <td>False</td>\n",
       "      <td>False</td>\n",
       "      <td>False</td>\n",
       "      <td>False</td>\n",
       "      <td>False</td>\n",
       "      <td>False</td>\n",
       "      <td>...</td>\n",
       "      <td>False</td>\n",
       "      <td>False</td>\n",
       "      <td>False</td>\n",
       "      <td>False</td>\n",
       "      <td>False</td>\n",
       "      <td>False</td>\n",
       "      <td>False</td>\n",
       "      <td>False</td>\n",
       "      <td>False</td>\n",
       "      <td>False</td>\n",
       "    </tr>\n",
       "    <tr>\n",
       "      <th>2869093</th>\n",
       "      <td>False</td>\n",
       "      <td>False</td>\n",
       "      <td>False</td>\n",
       "      <td>False</td>\n",
       "      <td>False</td>\n",
       "      <td>False</td>\n",
       "      <td>False</td>\n",
       "      <td>False</td>\n",
       "      <td>False</td>\n",
       "      <td>False</td>\n",
       "      <td>...</td>\n",
       "      <td>False</td>\n",
       "      <td>False</td>\n",
       "      <td>False</td>\n",
       "      <td>False</td>\n",
       "      <td>False</td>\n",
       "      <td>False</td>\n",
       "      <td>False</td>\n",
       "      <td>False</td>\n",
       "      <td>False</td>\n",
       "      <td>False</td>\n",
       "    </tr>\n",
       "    <tr>\n",
       "      <th>2869092</th>\n",
       "      <td>False</td>\n",
       "      <td>False</td>\n",
       "      <td>False</td>\n",
       "      <td>False</td>\n",
       "      <td>False</td>\n",
       "      <td>False</td>\n",
       "      <td>False</td>\n",
       "      <td>False</td>\n",
       "      <td>False</td>\n",
       "      <td>False</td>\n",
       "      <td>...</td>\n",
       "      <td>False</td>\n",
       "      <td>False</td>\n",
       "      <td>False</td>\n",
       "      <td>False</td>\n",
       "      <td>False</td>\n",
       "      <td>False</td>\n",
       "      <td>False</td>\n",
       "      <td>False</td>\n",
       "      <td>False</td>\n",
       "      <td>False</td>\n",
       "    </tr>\n",
       "    <tr>\n",
       "      <th>2869091</th>\n",
       "      <td>False</td>\n",
       "      <td>False</td>\n",
       "      <td>False</td>\n",
       "      <td>False</td>\n",
       "      <td>False</td>\n",
       "      <td>False</td>\n",
       "      <td>False</td>\n",
       "      <td>False</td>\n",
       "      <td>False</td>\n",
       "      <td>False</td>\n",
       "      <td>...</td>\n",
       "      <td>False</td>\n",
       "      <td>False</td>\n",
       "      <td>False</td>\n",
       "      <td>False</td>\n",
       "      <td>False</td>\n",
       "      <td>False</td>\n",
       "      <td>False</td>\n",
       "      <td>False</td>\n",
       "      <td>False</td>\n",
       "      <td>False</td>\n",
       "    </tr>\n",
       "    <tr>\n",
       "      <th>...</th>\n",
       "      <td>...</td>\n",
       "      <td>...</td>\n",
       "      <td>...</td>\n",
       "      <td>...</td>\n",
       "      <td>...</td>\n",
       "      <td>...</td>\n",
       "      <td>...</td>\n",
       "      <td>...</td>\n",
       "      <td>...</td>\n",
       "      <td>...</td>\n",
       "      <td>...</td>\n",
       "      <td>...</td>\n",
       "      <td>...</td>\n",
       "      <td>...</td>\n",
       "      <td>...</td>\n",
       "      <td>...</td>\n",
       "      <td>...</td>\n",
       "      <td>...</td>\n",
       "      <td>...</td>\n",
       "      <td>...</td>\n",
       "      <td>...</td>\n",
       "    </tr>\n",
       "    <tr>\n",
       "      <th>405399</th>\n",
       "      <td>False</td>\n",
       "      <td>False</td>\n",
       "      <td>False</td>\n",
       "      <td>False</td>\n",
       "      <td>False</td>\n",
       "      <td>False</td>\n",
       "      <td>False</td>\n",
       "      <td>False</td>\n",
       "      <td>False</td>\n",
       "      <td>False</td>\n",
       "      <td>...</td>\n",
       "      <td>False</td>\n",
       "      <td>False</td>\n",
       "      <td>False</td>\n",
       "      <td>False</td>\n",
       "      <td>False</td>\n",
       "      <td>False</td>\n",
       "      <td>False</td>\n",
       "      <td>False</td>\n",
       "      <td>False</td>\n",
       "      <td>False</td>\n",
       "    </tr>\n",
       "    <tr>\n",
       "      <th>405400</th>\n",
       "      <td>False</td>\n",
       "      <td>False</td>\n",
       "      <td>False</td>\n",
       "      <td>False</td>\n",
       "      <td>False</td>\n",
       "      <td>False</td>\n",
       "      <td>False</td>\n",
       "      <td>False</td>\n",
       "      <td>False</td>\n",
       "      <td>False</td>\n",
       "      <td>...</td>\n",
       "      <td>False</td>\n",
       "      <td>False</td>\n",
       "      <td>False</td>\n",
       "      <td>False</td>\n",
       "      <td>False</td>\n",
       "      <td>False</td>\n",
       "      <td>False</td>\n",
       "      <td>False</td>\n",
       "      <td>False</td>\n",
       "      <td>False</td>\n",
       "    </tr>\n",
       "    <tr>\n",
       "      <th>405401</th>\n",
       "      <td>False</td>\n",
       "      <td>False</td>\n",
       "      <td>False</td>\n",
       "      <td>False</td>\n",
       "      <td>False</td>\n",
       "      <td>False</td>\n",
       "      <td>False</td>\n",
       "      <td>False</td>\n",
       "      <td>False</td>\n",
       "      <td>False</td>\n",
       "      <td>...</td>\n",
       "      <td>False</td>\n",
       "      <td>False</td>\n",
       "      <td>False</td>\n",
       "      <td>False</td>\n",
       "      <td>False</td>\n",
       "      <td>False</td>\n",
       "      <td>False</td>\n",
       "      <td>False</td>\n",
       "      <td>False</td>\n",
       "      <td>False</td>\n",
       "    </tr>\n",
       "    <tr>\n",
       "      <th>405402</th>\n",
       "      <td>False</td>\n",
       "      <td>False</td>\n",
       "      <td>False</td>\n",
       "      <td>False</td>\n",
       "      <td>False</td>\n",
       "      <td>False</td>\n",
       "      <td>False</td>\n",
       "      <td>False</td>\n",
       "      <td>False</td>\n",
       "      <td>False</td>\n",
       "      <td>...</td>\n",
       "      <td>False</td>\n",
       "      <td>False</td>\n",
       "      <td>False</td>\n",
       "      <td>False</td>\n",
       "      <td>False</td>\n",
       "      <td>False</td>\n",
       "      <td>False</td>\n",
       "      <td>False</td>\n",
       "      <td>False</td>\n",
       "      <td>False</td>\n",
       "    </tr>\n",
       "    <tr>\n",
       "      <th>405403</th>\n",
       "      <td>False</td>\n",
       "      <td>False</td>\n",
       "      <td>False</td>\n",
       "      <td>False</td>\n",
       "      <td>False</td>\n",
       "      <td>False</td>\n",
       "      <td>False</td>\n",
       "      <td>False</td>\n",
       "      <td>False</td>\n",
       "      <td>False</td>\n",
       "      <td>...</td>\n",
       "      <td>False</td>\n",
       "      <td>False</td>\n",
       "      <td>False</td>\n",
       "      <td>False</td>\n",
       "      <td>False</td>\n",
       "      <td>False</td>\n",
       "      <td>False</td>\n",
       "      <td>False</td>\n",
       "      <td>False</td>\n",
       "      <td>False</td>\n",
       "    </tr>\n",
       "  </tbody>\n",
       "</table>\n",
       "<p>5500001 rows × 29 columns</p>\n",
       "</div>"
      ],
      "text/plain": [
       "         Label  lepton pT  lepton eta  lepton phi  missing energy magnitude  \\\n",
       "2869095  False      False       False       False                     False   \n",
       "2869094  False      False       False       False                     False   \n",
       "2869093  False      False       False       False                     False   \n",
       "2869092  False      False       False       False                     False   \n",
       "2869091  False      False       False       False                     False   \n",
       "...        ...        ...         ...         ...                       ...   \n",
       "405399   False      False       False       False                     False   \n",
       "405400   False      False       False       False                     False   \n",
       "405401   False      False       False       False                     False   \n",
       "405402   False      False       False       False                     False   \n",
       "405403   False      False       False       False                     False   \n",
       "\n",
       "         missing energy phi  jet 1 pt  jet 1 eta  jet 1 phi  jet 1 b-tag  ...  \\\n",
       "2869095               False     False      False      False        False  ...   \n",
       "2869094               False     False      False      False        False  ...   \n",
       "2869093               False     False      False      False        False  ...   \n",
       "2869092               False     False      False      False        False  ...   \n",
       "2869091               False     False      False      False        False  ...   \n",
       "...                     ...       ...        ...        ...          ...  ...   \n",
       "405399                False     False      False      False        False  ...   \n",
       "405400                False     False      False      False        False  ...   \n",
       "405401                False     False      False      False        False  ...   \n",
       "405402                False     False      False      False        False  ...   \n",
       "405403                False     False      False      False        False  ...   \n",
       "\n",
       "         jet 4 eta  jet 4 phi  jet 4 b-tag   m_jj  m_jjj   m_lv  m_jlv   m_bb  \\\n",
       "2869095      False      False        False  False  False  False  False  False   \n",
       "2869094      False      False        False  False  False  False  False  False   \n",
       "2869093      False      False        False  False  False  False  False  False   \n",
       "2869092      False      False        False  False  False  False  False  False   \n",
       "2869091      False      False        False  False  False  False  False  False   \n",
       "...            ...        ...          ...    ...    ...    ...    ...    ...   \n",
       "405399       False      False        False  False  False  False  False  False   \n",
       "405400       False      False        False  False  False  False  False  False   \n",
       "405401       False      False        False  False  False  False  False  False   \n",
       "405402       False      False        False  False  False  False  False  False   \n",
       "405403       False      False        False  False  False  False  False  False   \n",
       "\n",
       "         m_wbb  m_wwbb  \n",
       "2869095  False   False  \n",
       "2869094  False   False  \n",
       "2869093  False   False  \n",
       "2869092  False   False  \n",
       "2869091  False   False  \n",
       "...        ...     ...  \n",
       "405399   False   False  \n",
       "405400   False   False  \n",
       "405401   False   False  \n",
       "405402   False   False  \n",
       "405403   False   False  \n",
       "\n",
       "[5500001 rows x 29 columns]"
      ]
     },
     "execution_count": 9,
     "metadata": {},
     "output_type": "execute_result"
    }
   ],
   "source": [
    "df.isnull()"
   ]
  },
  {
   "cell_type": "markdown",
   "metadata": {},
   "source": [
    "The dataset is clear, there are no messing data."
   ]
  },
  {
   "cell_type": "markdown",
   "metadata": {},
   "source": [
    "This section is about explorating the DataFrame by applying some visualisation with scatter plots. this will be donw using matplot and seaborn. So i will reconvert my dataframe into a different type of Dataframe."
   ]
  },
  {
   "cell_type": "code",
   "execution_count": 10,
   "metadata": {},
   "outputs": [
    {
     "name": "stdout",
     "output_type": "stream",
     "text": [
      "<class 'pandas.core.frame.DataFrame'>\n"
     ]
    }
   ],
   "source": [
    "pandas_df = df.to_pandas()\n",
    "print(type(pandas_df))"
   ]
  },
  {
   "cell_type": "markdown",
   "metadata": {},
   "source": [
    "I will convert the dataframe into pandas dataframe so it more easier to work with libraries such as seaborn and matplot"
   ]
  },
  {
   "cell_type": "code",
   "execution_count": 11,
   "metadata": {},
   "outputs": [
    {
     "data": {
      "text/html": [
       "<div>\n",
       "<style scoped>\n",
       "    .dataframe tbody tr th:only-of-type {\n",
       "        vertical-align: middle;\n",
       "    }\n",
       "\n",
       "    .dataframe tbody tr th {\n",
       "        vertical-align: top;\n",
       "    }\n",
       "\n",
       "    .dataframe thead th {\n",
       "        text-align: right;\n",
       "    }\n",
       "</style>\n",
       "<table border=\"1\" class=\"dataframe\">\n",
       "  <thead>\n",
       "    <tr style=\"text-align: right;\">\n",
       "      <th></th>\n",
       "      <th>Label</th>\n",
       "      <th>lepton pT</th>\n",
       "      <th>lepton eta</th>\n",
       "      <th>lepton phi</th>\n",
       "      <th>missing energy magnitude</th>\n",
       "      <th>missing energy phi</th>\n",
       "      <th>jet 1 pt</th>\n",
       "      <th>jet 1 eta</th>\n",
       "      <th>jet 1 phi</th>\n",
       "      <th>jet 1 b-tag</th>\n",
       "      <th>...</th>\n",
       "      <th>jet 4 eta</th>\n",
       "      <th>jet 4 phi</th>\n",
       "      <th>jet 4 b-tag</th>\n",
       "      <th>m_jj</th>\n",
       "      <th>m_jjj</th>\n",
       "      <th>m_lv</th>\n",
       "      <th>m_jlv</th>\n",
       "      <th>m_bb</th>\n",
       "      <th>m_wbb</th>\n",
       "      <th>m_wwbb</th>\n",
       "    </tr>\n",
       "  </thead>\n",
       "  <tbody>\n",
       "    <tr>\n",
       "      <th>2869095</th>\n",
       "      <td>1.0</td>\n",
       "      <td>0.740821</td>\n",
       "      <td>-0.266922</td>\n",
       "      <td>-0.082360</td>\n",
       "      <td>0.822232</td>\n",
       "      <td>-1.005514</td>\n",
       "      <td>0.257966</td>\n",
       "      <td>1.560577</td>\n",
       "      <td>0.021782</td>\n",
       "      <td>0.000000</td>\n",
       "      <td>...</td>\n",
       "      <td>2.412228</td>\n",
       "      <td>-1.370900</td>\n",
       "      <td>0.000000</td>\n",
       "      <td>0.801033</td>\n",
       "      <td>0.766706</td>\n",
       "      <td>0.986567</td>\n",
       "      <td>0.576853</td>\n",
       "      <td>0.637052</td>\n",
       "      <td>0.868691</td>\n",
       "      <td>0.933099</td>\n",
       "    </tr>\n",
       "    <tr>\n",
       "      <th>2869094</th>\n",
       "      <td>1.0</td>\n",
       "      <td>1.402033</td>\n",
       "      <td>1.197927</td>\n",
       "      <td>-1.026737</td>\n",
       "      <td>0.957519</td>\n",
       "      <td>-0.395620</td>\n",
       "      <td>0.851581</td>\n",
       "      <td>-0.313928</td>\n",
       "      <td>0.577266</td>\n",
       "      <td>2.173076</td>\n",
       "      <td>...</td>\n",
       "      <td>-0.028777</td>\n",
       "      <td>0.906565</td>\n",
       "      <td>0.000000</td>\n",
       "      <td>0.787752</td>\n",
       "      <td>0.805812</td>\n",
       "      <td>0.985856</td>\n",
       "      <td>1.097103</td>\n",
       "      <td>0.966760</td>\n",
       "      <td>1.060326</td>\n",
       "      <td>0.865942</td>\n",
       "    </tr>\n",
       "    <tr>\n",
       "      <th>2869093</th>\n",
       "      <td>1.0</td>\n",
       "      <td>1.051387</td>\n",
       "      <td>1.569984</td>\n",
       "      <td>-0.266574</td>\n",
       "      <td>1.552940</td>\n",
       "      <td>1.172384</td>\n",
       "      <td>0.498618</td>\n",
       "      <td>2.144812</td>\n",
       "      <td>1.724823</td>\n",
       "      <td>0.000000</td>\n",
       "      <td>...</td>\n",
       "      <td>1.040568</td>\n",
       "      <td>0.209040</td>\n",
       "      <td>3.101961</td>\n",
       "      <td>1.772606</td>\n",
       "      <td>1.087739</td>\n",
       "      <td>1.704331</td>\n",
       "      <td>1.174295</td>\n",
       "      <td>0.583654</td>\n",
       "      <td>0.846972</td>\n",
       "      <td>0.874266</td>\n",
       "    </tr>\n",
       "    <tr>\n",
       "      <th>2869092</th>\n",
       "      <td>1.0</td>\n",
       "      <td>0.847698</td>\n",
       "      <td>1.554400</td>\n",
       "      <td>-1.159349</td>\n",
       "      <td>1.059122</td>\n",
       "      <td>1.054662</td>\n",
       "      <td>0.869811</td>\n",
       "      <td>0.598073</td>\n",
       "      <td>-0.025997</td>\n",
       "      <td>2.173076</td>\n",
       "      <td>...</td>\n",
       "      <td>1.311236</td>\n",
       "      <td>0.847744</td>\n",
       "      <td>0.000000</td>\n",
       "      <td>0.657516</td>\n",
       "      <td>0.861909</td>\n",
       "      <td>1.196033</td>\n",
       "      <td>1.137441</td>\n",
       "      <td>1.196455</td>\n",
       "      <td>0.893821</td>\n",
       "      <td>0.861369</td>\n",
       "    </tr>\n",
       "    <tr>\n",
       "      <th>2869091</th>\n",
       "      <td>0.0</td>\n",
       "      <td>1.075544</td>\n",
       "      <td>1.011899</td>\n",
       "      <td>-1.131051</td>\n",
       "      <td>0.659690</td>\n",
       "      <td>-1.127343</td>\n",
       "      <td>1.318778</td>\n",
       "      <td>0.493109</td>\n",
       "      <td>0.203062</td>\n",
       "      <td>0.000000</td>\n",
       "      <td>...</td>\n",
       "      <td>1.584402</td>\n",
       "      <td>-1.578992</td>\n",
       "      <td>0.000000</td>\n",
       "      <td>0.348883</td>\n",
       "      <td>0.620397</td>\n",
       "      <td>0.989246</td>\n",
       "      <td>0.601878</td>\n",
       "      <td>0.560855</td>\n",
       "      <td>0.612318</td>\n",
       "      <td>0.647955</td>\n",
       "    </tr>\n",
       "    <tr>\n",
       "      <th>...</th>\n",
       "      <td>...</td>\n",
       "      <td>...</td>\n",
       "      <td>...</td>\n",
       "      <td>...</td>\n",
       "      <td>...</td>\n",
       "      <td>...</td>\n",
       "      <td>...</td>\n",
       "      <td>...</td>\n",
       "      <td>...</td>\n",
       "      <td>...</td>\n",
       "      <td>...</td>\n",
       "      <td>...</td>\n",
       "      <td>...</td>\n",
       "      <td>...</td>\n",
       "      <td>...</td>\n",
       "      <td>...</td>\n",
       "      <td>...</td>\n",
       "      <td>...</td>\n",
       "      <td>...</td>\n",
       "      <td>...</td>\n",
       "      <td>...</td>\n",
       "    </tr>\n",
       "    <tr>\n",
       "      <th>405399</th>\n",
       "      <td>1.0</td>\n",
       "      <td>1.646167</td>\n",
       "      <td>-0.017586</td>\n",
       "      <td>0.843251</td>\n",
       "      <td>0.557262</td>\n",
       "      <td>0.292496</td>\n",
       "      <td>0.699604</td>\n",
       "      <td>-0.164404</td>\n",
       "      <td>-0.222246</td>\n",
       "      <td>1.086538</td>\n",
       "      <td>...</td>\n",
       "      <td>-0.224490</td>\n",
       "      <td>-0.956935</td>\n",
       "      <td>0.000000</td>\n",
       "      <td>0.776418</td>\n",
       "      <td>0.890487</td>\n",
       "      <td>0.982778</td>\n",
       "      <td>0.786405</td>\n",
       "      <td>0.746340</td>\n",
       "      <td>0.700029</td>\n",
       "      <td>0.670455</td>\n",
       "    </tr>\n",
       "    <tr>\n",
       "      <th>405400</th>\n",
       "      <td>0.0</td>\n",
       "      <td>1.007648</td>\n",
       "      <td>-1.379194</td>\n",
       "      <td>-0.841413</td>\n",
       "      <td>0.138057</td>\n",
       "      <td>0.488765</td>\n",
       "      <td>0.381086</td>\n",
       "      <td>1.256576</td>\n",
       "      <td>0.698674</td>\n",
       "      <td>0.000000</td>\n",
       "      <td>...</td>\n",
       "      <td>-0.374398</td>\n",
       "      <td>1.642933</td>\n",
       "      <td>3.101961</td>\n",
       "      <td>0.777131</td>\n",
       "      <td>0.882996</td>\n",
       "      <td>0.985921</td>\n",
       "      <td>0.682077</td>\n",
       "      <td>0.935568</td>\n",
       "      <td>0.831252</td>\n",
       "      <td>0.797216</td>\n",
       "    </tr>\n",
       "    <tr>\n",
       "      <th>405401</th>\n",
       "      <td>0.0</td>\n",
       "      <td>0.538596</td>\n",
       "      <td>-0.553268</td>\n",
       "      <td>0.786100</td>\n",
       "      <td>0.838622</td>\n",
       "      <td>-0.976548</td>\n",
       "      <td>1.244667</td>\n",
       "      <td>-0.027752</td>\n",
       "      <td>0.738034</td>\n",
       "      <td>2.173076</td>\n",
       "      <td>...</td>\n",
       "      <td>-0.162028</td>\n",
       "      <td>-0.227778</td>\n",
       "      <td>0.000000</td>\n",
       "      <td>0.719665</td>\n",
       "      <td>0.842854</td>\n",
       "      <td>0.985592</td>\n",
       "      <td>1.091248</td>\n",
       "      <td>1.524911</td>\n",
       "      <td>0.995544</td>\n",
       "      <td>0.939421</td>\n",
       "    </tr>\n",
       "    <tr>\n",
       "      <th>405402</th>\n",
       "      <td>0.0</td>\n",
       "      <td>0.833606</td>\n",
       "      <td>-1.375298</td>\n",
       "      <td>0.053128</td>\n",
       "      <td>1.836986</td>\n",
       "      <td>-0.275721</td>\n",
       "      <td>1.485961</td>\n",
       "      <td>0.001955</td>\n",
       "      <td>1.436547</td>\n",
       "      <td>2.173076</td>\n",
       "      <td>...</td>\n",
       "      <td>0.339331</td>\n",
       "      <td>0.787259</td>\n",
       "      <td>0.000000</td>\n",
       "      <td>2.070819</td>\n",
       "      <td>1.804063</td>\n",
       "      <td>0.991671</td>\n",
       "      <td>1.799846</td>\n",
       "      <td>1.983383</td>\n",
       "      <td>1.478031</td>\n",
       "      <td>1.338737</td>\n",
       "    </tr>\n",
       "    <tr>\n",
       "      <th>405403</th>\n",
       "      <td>1.0</td>\n",
       "      <td>0.669264</td>\n",
       "      <td>0.490826</td>\n",
       "      <td>-0.985677</td>\n",
       "      <td>0.692995</td>\n",
       "      <td>-0.130502</td>\n",
       "      <td>0.848008</td>\n",
       "      <td>-1.588354</td>\n",
       "      <td>1.731475</td>\n",
       "      <td>2.173076</td>\n",
       "      <td>...</td>\n",
       "      <td>-1.024001</td>\n",
       "      <td>-0.325998</td>\n",
       "      <td>3.101961</td>\n",
       "      <td>0.943095</td>\n",
       "      <td>0.951848</td>\n",
       "      <td>0.992358</td>\n",
       "      <td>0.864334</td>\n",
       "      <td>0.669417</td>\n",
       "      <td>1.332097</td>\n",
       "      <td>1.144106</td>\n",
       "    </tr>\n",
       "  </tbody>\n",
       "</table>\n",
       "<p>5500001 rows × 29 columns</p>\n",
       "</div>"
      ],
      "text/plain": [
       "         Label  lepton pT  lepton eta  lepton phi  missing energy magnitude  \\\n",
       "2869095    1.0   0.740821   -0.266922   -0.082360                  0.822232   \n",
       "2869094    1.0   1.402033    1.197927   -1.026737                  0.957519   \n",
       "2869093    1.0   1.051387    1.569984   -0.266574                  1.552940   \n",
       "2869092    1.0   0.847698    1.554400   -1.159349                  1.059122   \n",
       "2869091    0.0   1.075544    1.011899   -1.131051                  0.659690   \n",
       "...        ...        ...         ...         ...                       ...   \n",
       "405399     1.0   1.646167   -0.017586    0.843251                  0.557262   \n",
       "405400     0.0   1.007648   -1.379194   -0.841413                  0.138057   \n",
       "405401     0.0   0.538596   -0.553268    0.786100                  0.838622   \n",
       "405402     0.0   0.833606   -1.375298    0.053128                  1.836986   \n",
       "405403     1.0   0.669264    0.490826   -0.985677                  0.692995   \n",
       "\n",
       "         missing energy phi  jet 1 pt  jet 1 eta  jet 1 phi  jet 1 b-tag  ...  \\\n",
       "2869095           -1.005514  0.257966   1.560577   0.021782     0.000000  ...   \n",
       "2869094           -0.395620  0.851581  -0.313928   0.577266     2.173076  ...   \n",
       "2869093            1.172384  0.498618   2.144812   1.724823     0.000000  ...   \n",
       "2869092            1.054662  0.869811   0.598073  -0.025997     2.173076  ...   \n",
       "2869091           -1.127343  1.318778   0.493109   0.203062     0.000000  ...   \n",
       "...                     ...       ...        ...        ...          ...  ...   \n",
       "405399             0.292496  0.699604  -0.164404  -0.222246     1.086538  ...   \n",
       "405400             0.488765  0.381086   1.256576   0.698674     0.000000  ...   \n",
       "405401            -0.976548  1.244667  -0.027752   0.738034     2.173076  ...   \n",
       "405402            -0.275721  1.485961   0.001955   1.436547     2.173076  ...   \n",
       "405403            -0.130502  0.848008  -1.588354   1.731475     2.173076  ...   \n",
       "\n",
       "         jet 4 eta  jet 4 phi  jet 4 b-tag      m_jj     m_jjj      m_lv  \\\n",
       "2869095   2.412228  -1.370900     0.000000  0.801033  0.766706  0.986567   \n",
       "2869094  -0.028777   0.906565     0.000000  0.787752  0.805812  0.985856   \n",
       "2869093   1.040568   0.209040     3.101961  1.772606  1.087739  1.704331   \n",
       "2869092   1.311236   0.847744     0.000000  0.657516  0.861909  1.196033   \n",
       "2869091   1.584402  -1.578992     0.000000  0.348883  0.620397  0.989246   \n",
       "...            ...        ...          ...       ...       ...       ...   \n",
       "405399   -0.224490  -0.956935     0.000000  0.776418  0.890487  0.982778   \n",
       "405400   -0.374398   1.642933     3.101961  0.777131  0.882996  0.985921   \n",
       "405401   -0.162028  -0.227778     0.000000  0.719665  0.842854  0.985592   \n",
       "405402    0.339331   0.787259     0.000000  2.070819  1.804063  0.991671   \n",
       "405403   -1.024001  -0.325998     3.101961  0.943095  0.951848  0.992358   \n",
       "\n",
       "            m_jlv      m_bb     m_wbb    m_wwbb  \n",
       "2869095  0.576853  0.637052  0.868691  0.933099  \n",
       "2869094  1.097103  0.966760  1.060326  0.865942  \n",
       "2869093  1.174295  0.583654  0.846972  0.874266  \n",
       "2869092  1.137441  1.196455  0.893821  0.861369  \n",
       "2869091  0.601878  0.560855  0.612318  0.647955  \n",
       "...           ...       ...       ...       ...  \n",
       "405399   0.786405  0.746340  0.700029  0.670455  \n",
       "405400   0.682077  0.935568  0.831252  0.797216  \n",
       "405401   1.091248  1.524911  0.995544  0.939421  \n",
       "405402   1.799846  1.983383  1.478031  1.338737  \n",
       "405403   0.864334  0.669417  1.332097  1.144106  \n",
       "\n",
       "[5500001 rows x 29 columns]"
      ]
     },
     "execution_count": 11,
     "metadata": {},
     "output_type": "execute_result"
    }
   ],
   "source": [
    "pandas_df"
   ]
  },
  {
   "cell_type": "code",
   "execution_count": 12,
   "metadata": {},
   "outputs": [
    {
     "data": {
      "image/png": "[encoded data removed]",
      "text/plain": [
       "<Figure size 576x432 with 1 Axes>"
      ]
     },
     "metadata": {
      "needs_background": "light"
     },
     "output_type": "display_data"
    }
   ],
   "source": [
    "plt.figure(figsize=(8,6))\n",
    "sns.barplot(x = pandas_df['Label'].value_counts().index, y = pandas_df['Label'].value_counts().values)\n",
    "plt.title(\"Labels Signal\")\n",
    "plt.tight_layout()"
   ]
  },
  {
   "cell_type": "markdown",
   "metadata": {},
   "source": [
    "This graph is about the signal label of the dataset(first feature), we can see that the dataset is nearly balanced(so it still unbalanced). The 1.0 label is equal to the signal process(which produces higgs boson) and 0.0 is equal to the background process(which does not produce higgs boson). "
   ]
  },
  {
   "cell_type": "markdown",
   "metadata": {},
   "source": [
    "We can now investgate on the features of the dataset by displaying a heat map. This can also lead us when it comes to decided which features to use for the training."
   ]
  },
  {
   "cell_type": "code",
   "execution_count": 13,
   "metadata": {},
   "outputs": [
    {
     "data": {
      "text/plain": [
       "<AxesSubplot:>"
      ]
     },
     "execution_count": 13,
     "metadata": {},
     "output_type": "execute_result"
    },
    {
     "data": {
      "image/png": "[encoded data removed]",
      "text/plain": [
       "<Figure size 1440x648 with 2 Axes>"
      ]
     },
     "metadata": {},
     "output_type": "display_data"
    }
   ],
   "source": [
    "sns.set_theme(style=\"white\")\n",
    "corr = pandas_df.corr()\n",
    "mask = np.triu(pandas_df.corr())\n",
    "f, ax = plt.subplots(figsize=(20, 9))\n",
    "cmap = sns.diverging_palette(230, 20, as_cmap=True)\n",
    "sns.heatmap(pandas_df.corr(), mask=mask, cmap=cmap, vmax=1, center=0,\n",
    "            square=True, linewidths=.5, cbar_kws={\"shrink\": .5})"
   ]
  },
  {
   "cell_type": "markdown",
   "metadata": {},
   "source": [
    "This heat map shows us the all the features of the dataset. We can see that most features of the dataset are not correlated to the the output label. In fact only few features are nearly correlated but still not that relevant to remove them from the dataset. This heatmap technique can used also for feature selection needed for the training.So from this heatmap i learn that all the features can be pass in training."
   ]
  },
  {
   "cell_type": "markdown",
   "metadata": {},
   "source": [
    "TRAINING WITH CUML AND SKLEARN"
   ]
  },
  {
   "cell_type": "markdown",
   "metadata": {},
   "source": [
    "This section regards the training purpose. Firstly i have already done the PCA(normally required lot of memory), but for memory purpose i decided to place it in the end of the notebook(the pca will be also used for the trainin purpose). "
   ]
  },
  {
   "cell_type": "code",
   "execution_count": 14,
   "metadata": {},
   "outputs": [],
   "source": [
    "X, y = df[df.columns.difference(['Label'])].fillna(value=0).as_matrix(), df['Label'].to_array()"
   ]
  },
  {
   "cell_type": "markdown",
   "metadata": {},
   "source": [
    "Setting the independent variable. The X variables is be the all the features of dataset excluding the label feature. For y variable i pass the label feature in array."
   ]
  },
  {
   "cell_type": "code",
   "execution_count": 15,
   "metadata": {},
   "outputs": [],
   "source": [
    "scaler = StandardScaler()\n",
    "scaler.fit(X)\n",
    "x_scaled = scaler.transform(X)"
   ]
  },
  {
   "cell_type": "markdown",
   "metadata": {},
   "source": [
    "Normalization of the X data for the training."
   ]
  },
  {
   "cell_type": "code",
   "execution_count": 16,
   "metadata": {},
   "outputs": [],
   "source": [
    "X_train, X_test, y_train, y_test = train_test_split(X, y, test_size=0.2)"
   ]
  },
  {
   "cell_type": "markdown",
   "metadata": {},
   "source": [
    "the train and test split is about 80% for the train split and 20 % for the test split. I believe this ratio good because of the huge dataset."
   ]
  },
  {
   "cell_type": "code",
   "execution_count": 17,
   "metadata": {},
   "outputs": [],
   "source": [
    "X_train, X_test =X_train.astype(np.float32), X_test.astype(np.float32)"
   ]
  },
  {
   "cell_type": "markdown",
   "metadata": {},
   "source": [
    "Turning the X variable to a np.float32 so i will be able to do the inference on the gpu(with most of cuml algorithms)"
   ]
  },
  {
   "cell_type": "markdown",
   "metadata": {},
   "source": [
    "As the dataset is a classification dataset, the models that will be used to training will regard classification algorithhms. In this task rapids(cuml) is required. According to nvidia and rapids not all the traditional algorithms(sklearn) that we known are able to achieve a good result in rapids. In fact based on report of nvidia and rapids, I decided to use 2 algorithms that are able to achieve a good result in rapids and 1 that normally achieve an average result(based on nvidia and rapids report). So i will use Random forest and SVC (normally achive better result in both CUML AND SKLEARN) and logistic regression (average result in rapids). In addition i will also train these algorithms in sklearn to compare the benchmark between CPU anf GPU."
   ]
  },
  {
   "cell_type": "markdown",
   "metadata": {},
   "source": [
    "RANDOM FOREST GPU(cuml) AND CPU(sklearn)"
   ]
  },
  {
   "cell_type": "code",
   "execution_count": 18,
   "metadata": {},
   "outputs": [],
   "source": [
    "cu_rf_params = {\n",
    "'n_estimators': 25, \n",
    "'max_depth': 25,\n",
    "'max_features': 'auto',\n",
    "'n_bins': 200,  \n",
    "'bootstrap': False,\n",
    "'seed' : 0\n",
    "}\n",
    "cu_rf = cuRF(**cu_rf_params)"
   ]
  },
  {
   "cell_type": "markdown",
   "metadata": {},
   "source": [
    "These are the best hyperparameters for cuml rfc (this will be also used for the sklearn rfc). The model does not improve from this hyperparameters. I used the the same for both to check out which performs better and has the better training/testing time."
   ]
  },
  {
   "cell_type": "code",
   "execution_count": 19,
   "metadata": {},
   "outputs": [
    {
     "name": "stdout",
     "output_type": "stream",
     "text": [
      "CuMl Random Forest training Time: 29.688 seconds\n"
     ]
    }
   ],
   "source": [
    "tmp = time.time()\n",
    "cu_rf.fit(X_train, y_train)\n",
    "gpu_time = time.time() - tmp\n",
    "print(\"CuMl Random Forest training Time: %s seconds\" % (str(round(gpu_time,3))))"
   ]
  },
  {
   "cell_type": "code",
   "execution_count": 20,
   "metadata": {},
   "outputs": [
    {
     "name": "stdout",
     "output_type": "stream",
     "text": [
      "0.7410011291503906\n",
      "CuMl Random Forest Testing Time: 7.627 seconds\n"
     ]
    }
   ],
   "source": [
    "tmp = time.time()\n",
    "y_pred = cu_rf.predict(X_test)\n",
    "gpu_time = time.time() - tmp\n",
    "print(cuml.metrics.accuracy_score(y_test, y_pred))\n",
    "print(\"CuMl Random Forest Testing Time: %s seconds\" % (str(round(gpu_time,3))))"
   ]
  },
  {
   "cell_type": "code",
   "execution_count": 21,
   "metadata": {},
   "outputs": [],
   "source": [
    "skl_rf_params = {\n",
    "        'n_estimators': 25,\n",
    "        'max_depth': 25,\n",
    "        'random_state' : 0,\n",
    "    }\n",
    "skl_rf = sklRF( n_jobs=-1)"
   ]
  },
  {
   "cell_type": "code",
   "execution_count": 22,
   "metadata": {},
   "outputs": [
    {
     "name": "stdout",
     "output_type": "stream",
     "text": [
      "Sklearn Random Forest Training Time: 286.794 seconds\n"
     ]
    }
   ],
   "source": [
    "tmp = time.time()\n",
    "skl_rf.fit(X_train, y_train)\n",
    "cpu_time = time.time() - tmp\n",
    "print(\"Sklearn Random Forest Training Time: %s seconds\" % (str(round(cpu_time,3))))"
   ]
  },
  {
   "cell_type": "code",
   "execution_count": 23,
   "metadata": {},
   "outputs": [
    {
     "name": "stdout",
     "output_type": "stream",
     "text": [
      "Sklearn Random Forest Testing Time: 7.84 seconds\n",
      "0.7479756836584694\n"
     ]
    }
   ],
   "source": [
    "tmp = time.time()\n",
    "sk_preds = skl_rf.predict(X_test)\n",
    "cpu_time = time.time() - tmp\n",
    "print(\"Sklearn Random Forest Testing Time: %s seconds\" % (str(round(cpu_time,3))))\n",
    "print(sklearn.metrics.accuracy_score(y_test, sk_preds ))"
   ]
  },
  {
   "cell_type": "markdown",
   "metadata": {},
   "source": [
    "EVALUATING THE BOTH MODELS(CUML AND SKLEARN)"
   ]
  },
  {
   "cell_type": "code",
   "execution_count": 24,
   "metadata": {},
   "outputs": [
    {
     "name": "stdout",
     "output_type": "stream",
     "text": [
      "CuMl RF confusion matrix Time: 1.601 seconds\n",
      " CuMl RF confusion matrix : \n",
      "[[373239 143909]\n",
      " [140990 441863]]\n"
     ]
    }
   ],
   "source": [
    "tmp = time.time()\n",
    "cu_preds = cu_rf.predict(X_test)\n",
    "cu_conf_mat = confusion_matrix(y_test, cu_preds)\n",
    "gpu_time = time.time() - tmp\n",
    "print(\"CuMl RF confusion matrix Time: %s seconds\" % (str(round(gpu_time,3))))\n",
    "print(\" CuMl RF confusion matrix : \")\n",
    "print(cu_conf_mat)"
   ]
  },
  {
   "cell_type": "code",
   "execution_count": 25,
   "metadata": {},
   "outputs": [
    {
     "name": "stdout",
     "output_type": "stream",
     "text": [
      "              precision    recall  f1-score   support\n",
      "\n",
      "         0.0       0.73      0.72      0.72    517148\n",
      "         1.0       0.75      0.76      0.76    582853\n",
      "\n",
      "    accuracy                           0.74   1100001\n",
      "   macro avg       0.74      0.74      0.74   1100001\n",
      "weighted avg       0.74      0.74      0.74   1100001\n",
      "\n",
      "CuMl RF classification_report Time: 1.711 seconds\n"
     ]
    }
   ],
   "source": [
    "tmp = time.time()\n",
    "print(classification_report(y_test,cu_preds, zero_division=1))\n",
    "gpu_time = time.time() - tmp\n",
    "print(\"CuMl RF classification_report Time: %s seconds\" % (str(round(gpu_time,3))))"
   ]
  },
  {
   "cell_type": "markdown",
   "metadata": {},
   "source": [
    "These are about the confusion matrix and classification report of the Random Forest in rapids(CUML). We can see that the accuracy of the model is good(74%), The sensivity(which it refers as recall) report, we can see the detection is a bit better in 1.0 label(higgs boson) than in 0.0 label(noise signal), this can be maybe to the dataset which not is not full balanced. The sensivity give us the idea of how the model is good in detecting positive returns. I will return the AUC graph to determine if the model has performed weell."
   ]
  },
  {
   "cell_type": "code",
   "execution_count": 26,
   "metadata": {},
   "outputs": [
    {
     "name": "stdout",
     "output_type": "stream",
     "text": [
      "AUC: 0.740\n"
     ]
    }
   ],
   "source": [
    "auc_rfc_cuml = roc_auc_score(y_test, cu_preds)\n",
    "print('AUC: %.3f' % auc_rfc_cuml)"
   ]
  },
  {
   "cell_type": "markdown",
   "metadata": {},
   "source": [
    "This is the accuracy of the model. So now we can display it on graph to get better knowlegde on how the model performed."
   ]
  },
  {
   "cell_type": "code",
   "execution_count": 27,
   "metadata": {},
   "outputs": [],
   "source": [
    "false_positive_rate, true_positive_rate, thresholds = roc_curve(y_test, cu_preds)"
   ]
  },
  {
   "cell_type": "code",
   "execution_count": 28,
   "metadata": {},
   "outputs": [
    {
     "data": {
      "text/plain": [
       "Text(0.5, 0, 'Specificity')"
      ]
     },
     "execution_count": 28,
     "metadata": {},
     "output_type": "execute_result"
    },
    {
     "data": {
      "image/png": "[encoded data removed]",
      "text/plain": [
       "<Figure size 432x432 with 1 Axes>"
      ]
     },
     "metadata": {},
     "output_type": "display_data"
    }
   ],
   "source": [
    "plt.figure(figsize=(6,6))\n",
    "plt.title('AUC')\n",
    "plt.plot(false_positive_rate,true_positive_rate, color='red',label = 'AUC: %.3f' % auc_rfc_cuml)\n",
    "plt.legend(loc = 'lower right')\n",
    "plt.plot([0, 1], [0, 1],linestyle='--')\n",
    "plt.axis('tight')\n",
    "plt.ylabel('Sensitivity')\n",
    "plt.xlabel('Specificity')"
   ]
  },
  {
   "cell_type": "markdown",
   "metadata": {},
   "source": [
    "This graph shows that the model(RF CUML) is alright and fair, which means that there is a high chance that the model will be albe to distinguish the two classes(label)"
   ]
  },
  {
   "cell_type": "code",
   "execution_count": 29,
   "metadata": {},
   "outputs": [
    {
     "name": "stdout",
     "output_type": "stream",
     "text": [
      " Sklearn RF confusion matrix : \n",
      "[[377081 140067]\n",
      " [137160 445693]]\n",
      "Sklearn RF confusion matrix Testing Time: 7.839 seconds\n"
     ]
    }
   ],
   "source": [
    "tmp = time.time()\n",
    "sk_preds = skl_rf.predict(X_test)\n",
    "cpu_time = time.time() - tmp\n",
    "print(\" Sklearn RF confusion matrix : \")\n",
    "print(confusion_matrix(y_test,sk_preds))\n",
    "print(\"Sklearn RF confusion matrix Testing Time: %s seconds\" % (str(round(cpu_time,3))))"
   ]
  },
  {
   "cell_type": "code",
   "execution_count": 30,
   "metadata": {},
   "outputs": [
    {
     "name": "stdout",
     "output_type": "stream",
     "text": [
      "              precision    recall  f1-score   support\n",
      "\n",
      "         0.0       0.73      0.73      0.73    517148\n",
      "         1.0       0.76      0.76      0.76    582853\n",
      "\n",
      "    accuracy                           0.75   1100001\n",
      "   macro avg       0.75      0.75      0.75   1100001\n",
      "weighted avg       0.75      0.75      0.75   1100001\n",
      "\n",
      "Sklearn RF classification_report Time: 1.752 seconds\n"
     ]
    }
   ],
   "source": [
    "tmp = time.time()\n",
    "print(classification_report(y_test,sk_preds, zero_division=1))\n",
    "cpu_time = time.time() - tmp\n",
    "print(\"Sklearn RF classification_report Time: %s seconds\" % (str(round(cpu_time,3))))"
   ]
  },
  {
   "cell_type": "markdown",
   "metadata": {},
   "source": [
    "This classification can be refered to the previous one in CUML because the accuracy, sensitivity and specificity are similar. "
   ]
  },
  {
   "cell_type": "code",
   "execution_count": 31,
   "metadata": {},
   "outputs": [
    {
     "name": "stdout",
     "output_type": "stream",
     "text": [
      "AUC: 0.747\n"
     ]
    }
   ],
   "source": [
    "auc_rfc_sk = roc_auc_score(y_test, sk_preds)\n",
    "print('AUC: %.3f' % auc_rfc_sk)"
   ]
  },
  {
   "cell_type": "code",
   "execution_count": 32,
   "metadata": {},
   "outputs": [],
   "source": [
    "false_positive_rate, true_positive_rate, thresholds = roc_curve(y_test, sk_preds)"
   ]
  },
  {
   "cell_type": "code",
   "execution_count": 33,
   "metadata": {},
   "outputs": [
    {
     "data": {
      "text/plain": [
       "Text(0.5, 0, 'Specificity')"
      ]
     },
     "execution_count": 33,
     "metadata": {},
     "output_type": "execute_result"
    },
    {
     "data": {
      "image/png": "[encoded data removed]",
      "text/plain": [
       "<Figure size 432x432 with 1 Axes>"
      ]
     },
     "metadata": {},
     "output_type": "display_data"
    }
   ],
   "source": [
    "plt.figure(figsize=(6,6))\n",
    "plt.title('AUC')\n",
    "plt.plot(false_positive_rate,true_positive_rate, color='red',label = 'AUC: %.3f' % auc_rfc_sk)\n",
    "plt.legend(loc = 'lower right')\n",
    "plt.plot([0, 1], [0, 1],linestyle='--')\n",
    "plt.axis('tight')\n",
    "plt.ylabel('Sensitivity')\n",
    "plt.xlabel('Specificity')"
   ]
  },
  {
   "cell_type": "markdown",
   "metadata": {},
   "source": [
    "This graph shows that the model(RF Sklearn) is alright and fair, which means that there is a high chance that the model will be albe to distinguish the two classes(label)"
   ]
  },
  {
   "cell_type": "markdown",
   "metadata": {},
   "source": [
    "SUPPORT VECTOR CLASSIFICATION"
   ]
  },
  {
   "cell_type": "markdown",
   "metadata": {},
   "source": [
    "for this algorithm, the time required to train the dataset was too long, infact even the gpu(cuml) the training time was almost around 800 seconds which is too long for a gpu. I also tried to train the model on cpu(sklearn) and after 4 hours, the training was still processing. Even the result from this algorithm was not good."
   ]
  },
  {
   "cell_type": "markdown",
   "metadata": {},
   "source": [
    "LOGISTIC REGRESSION"
   ]
  },
  {
   "cell_type": "code",
   "execution_count": 34,
   "metadata": {},
   "outputs": [
    {
     "name": "stdout",
     "output_type": "stream",
     "text": [
      "CuMl Logistic Regression training Time: 1.265 seconds\n"
     ]
    }
   ],
   "source": [
    "tmp = time.time()\n",
    "lr_cuml=LogisticRegression(C= 1000, max_iter= 10000, penalty= 'l2', solver= 'qn')\n",
    "lr_cuml.fit(X_train, y_train)\n",
    "gpu_time = time.time() - tmp\n",
    "print(\"CuMl Logistic Regression training Time: %s seconds\" % (str(round(gpu_time,3))))"
   ]
  },
  {
   "cell_type": "code",
   "execution_count": 35,
   "metadata": {},
   "outputs": [
    {
     "name": "stdout",
     "output_type": "stream",
     "text": [
      "0.6409448981285095\n",
      "CuMl Logistic Regression Testing Time: 0.141 seconds\n"
     ]
    }
   ],
   "source": [
    "tmp = time.time()\n",
    "lr_pred = lr_cuml.predict(X_test)\n",
    "gpu_time = time.time() - tmp\n",
    "print(cuml.metrics.accuracy_score(y_test, lr_pred))\n",
    "print(\"CuMl Logistic Regression Testing Time: %s seconds\" % (str(round(gpu_time,3))))"
   ]
  },
  {
   "cell_type": "code",
   "execution_count": 36,
   "metadata": {},
   "outputs": [
    {
     "name": "stdout",
     "output_type": "stream",
     "text": [
      "Sklearn Logistic Regression training Time: 35.221 seconds\n"
     ]
    }
   ],
   "source": [
    "tmp = time.time()\n",
    "logis= logis(C= 1000, max_iter= 10000, penalty= 'l2', solver= 'newton-cg')\n",
    "logis.fit(X_train, y_train)\n",
    "cpu_time = time.time() - tmp\n",
    "print(\"Sklearn Logistic Regression training Time: %s seconds\" % (str(round(cpu_time,3))))"
   ]
  },
  {
   "cell_type": "code",
   "execution_count": 37,
   "metadata": {},
   "outputs": [
    {
     "name": "stdout",
     "output_type": "stream",
     "text": [
      "0.6412921442798688\n",
      "Sklearn Logistic Regression Testing Time: 0.021 seconds\n"
     ]
    }
   ],
   "source": [
    "tmp = time.time()\n",
    "logis_pred = logis.predict(X_test)\n",
    "cpu_time = time.time() - tmp\n",
    "print(sklearn.metrics.accuracy_score(y_test, logis_pred))\n",
    "print(\"Sklearn Logistic Regression Testing Time: %s seconds\" % (str(round(cpu_time,3))))"
   ]
  },
  {
   "cell_type": "markdown",
   "metadata": {},
   "source": [
    "EVALUATING THE BOTH MODELS(CUML AND SKLEARN)"
   ]
  },
  {
   "cell_type": "code",
   "execution_count": 38,
   "metadata": {},
   "outputs": [
    {
     "name": "stdout",
     "output_type": "stream",
     "text": [
      "CuMl LR confusion matrix Time: 0.72 seconds\n",
      "CuMl LR confusion matrix : \n",
      "[[272950 244198]\n",
      " [150763 432090]]\n"
     ]
    }
   ],
   "source": [
    "tmp = time.time()\n",
    "lr_pred = lr_cuml.predict(X_test)\n",
    "cu_conf_mat = confusion_matrix(y_test, lr_pred)\n",
    "gpu_time = time.time() - tmp\n",
    "print(\"CuMl LR confusion matrix Time: %s seconds\" % (str(round(gpu_time,3))))\n",
    "print(\"CuMl LR confusion matrix : \")\n",
    "print(cu_conf_mat)"
   ]
  },
  {
   "cell_type": "code",
   "execution_count": 39,
   "metadata": {},
   "outputs": [
    {
     "name": "stdout",
     "output_type": "stream",
     "text": [
      "              precision    recall  f1-score   support\n",
      "\n",
      "         0.0       0.64      0.53      0.58    517148\n",
      "         1.0       0.64      0.74      0.69    582853\n",
      "\n",
      "    accuracy                           0.64   1100001\n",
      "   macro avg       0.64      0.63      0.63   1100001\n",
      "weighted avg       0.64      0.64      0.64   1100001\n",
      "\n",
      "CuMl LR classification_report Time: 1.693 seconds\n"
     ]
    }
   ],
   "source": [
    "tmp = time.time()\n",
    "print(classification_report(y_test,lr_pred, zero_division=1))\n",
    "gpu_time = time.time() - tmp\n",
    "print(\"CuMl LR classification_report Time: %s seconds\" % (str(round(gpu_time,3))))"
   ]
  },
  {
   "cell_type": "code",
   "execution_count": 40,
   "metadata": {},
   "outputs": [
    {
     "name": "stdout",
     "output_type": "stream",
     "text": [
      "AUC: 0.635\n"
     ]
    }
   ],
   "source": [
    "auc_lr_cuml = roc_auc_score(y_test, lr_pred)\n",
    "print('AUC: %.3f' % auc_lr_cuml)"
   ]
  },
  {
   "cell_type": "code",
   "execution_count": 41,
   "metadata": {},
   "outputs": [],
   "source": [
    "false_positive_rate, true_positive_rate, thresholds = roc_curve(y_test, lr_pred)"
   ]
  },
  {
   "cell_type": "code",
   "execution_count": 42,
   "metadata": {},
   "outputs": [
    {
     "data": {
      "text/plain": [
       "Text(0.5, 0, 'Specificity')"
      ]
     },
     "execution_count": 42,
     "metadata": {},
     "output_type": "execute_result"
    },
    {
     "data": {
      "image/png": "[encoded data removed]",
      "text/plain": [
       "<Figure size 432x432 with 1 Axes>"
      ]
     },
     "metadata": {},
     "output_type": "display_data"
    }
   ],
   "source": [
    "plt.figure(figsize=(6,6))\n",
    "plt.title('AUC')\n",
    "plt.plot(false_positive_rate,true_positive_rate, color='red',label = 'AUC: %.3f' % auc_lr_cuml)\n",
    "plt.legend(loc = 'lower right')\n",
    "plt.plot([0, 1], [0, 1],linestyle='--')\n",
    "plt.axis('tight')\n",
    "plt.ylabel('Sensitivity')\n",
    "plt.xlabel('Specificity')"
   ]
  },
  {
   "cell_type": "code",
   "execution_count": 43,
   "metadata": {},
   "outputs": [
    {
     "name": "stdout",
     "output_type": "stream",
     "text": [
      " Sklearn con matri : \n",
      "[[273152 243996]\n",
      " [150583 432270]]\n",
      "Sklearn LR confusion matrix Testing Time: 0.029 seconds\n"
     ]
    }
   ],
   "source": [
    "tmp = time.time()\n",
    "logis_pred = logis.predict(X_test)\n",
    "cpu_time = time.time() - tmp\n",
    "print(\" Sklearn con matri : \")\n",
    "print(confusion_matrix(y_test,logis_pred))\n",
    "print(\"Sklearn LR confusion matrix Testing Time: %s seconds\" % (str(round(cpu_time,3))))"
   ]
  },
  {
   "cell_type": "code",
   "execution_count": 44,
   "metadata": {},
   "outputs": [
    {
     "name": "stdout",
     "output_type": "stream",
     "text": [
      "              precision    recall  f1-score   support\n",
      "\n",
      "         0.0       0.64      0.53      0.58    517148\n",
      "         1.0       0.64      0.74      0.69    582853\n",
      "\n",
      "    accuracy                           0.64   1100001\n",
      "   macro avg       0.64      0.63      0.63   1100001\n",
      "weighted avg       0.64      0.64      0.64   1100001\n",
      "\n",
      "Sklearn LR classification_report Time: 1.695 seconds\n"
     ]
    }
   ],
   "source": [
    "tmp = time.time()\n",
    "print(classification_report(y_test,logis_pred, zero_division=1))\n",
    "cpu_time = time.time() - tmp\n",
    "print(\"Sklearn LR classification_report Time: %s seconds\" % (str(round(cpu_time,3))))"
   ]
  },
  {
   "cell_type": "code",
   "execution_count": 45,
   "metadata": {},
   "outputs": [
    {
     "name": "stdout",
     "output_type": "stream",
     "text": [
      "AUC: 0.635\n"
     ]
    }
   ],
   "source": [
    "auc_lr_sk = roc_auc_score(y_test, logis_pred)\n",
    "print('AUC: %.3f' % auc_lr_sk)"
   ]
  },
  {
   "cell_type": "code",
   "execution_count": 46,
   "metadata": {},
   "outputs": [],
   "source": [
    "false_positive_rate, true_positive_rate, thresholds = roc_curve(y_test, lr_pred)"
   ]
  },
  {
   "cell_type": "code",
   "execution_count": 47,
   "metadata": {},
   "outputs": [
    {
     "data": {
      "text/plain": [
       "Text(0.5, 0, 'Specificity')"
      ]
     },
     "execution_count": 47,
     "metadata": {},
     "output_type": "execute_result"
    },
    {
     "data": {
      "image/png": "[encoded data removed]",
      "text/plain": [
       "<Figure size 432x432 with 1 Axes>"
      ]
     },
     "metadata": {},
     "output_type": "display_data"
    }
   ],
   "source": [
    "plt.figure(figsize=(6,6))\n",
    "plt.title('AUC')\n",
    "plt.plot(false_positive_rate,true_positive_rate, color='red',label = 'AUC: %.3f' % auc_lr_sk)\n",
    "plt.legend(loc = 'lower right')\n",
    "plt.plot([0, 1], [0, 1],linestyle='--')\n",
    "plt.axis('tight')\n",
    "plt.ylabel('Sensitivity')\n",
    "plt.xlabel('Specificity')"
   ]
  },
  {
   "cell_type": "markdown",
   "metadata": {},
   "source": [
    "COMPARE THE AUC SCORES"
   ]
  },
  {
   "cell_type": "code",
   "execution_count": 53,
   "metadata": {},
   "outputs": [
    {
     "name": "stdout",
     "output_type": "stream",
     "text": [
      "AUC SCORE BETWEEN THR CLASSIFICATION(CUML AND SKLEARN):\n",
      "RF CUML AUC SCORE: 0.740 %\n",
      "RF SKLEARN AUC SCORE: 0.747 %\n",
      "LR CUML AUC SCORE: 0.635 %\n",
      "LR SKLEARN AUC SCORE: 0.635 %\n"
     ]
    }
   ],
   "source": [
    "print(\"AUC SCORE BETWEEN THR CLASSIFICATION(CUML AND SKLEARN):\")\n",
    "print('RF CUML AUC SCORE: %.3f' % auc_rfc_cuml)\n",
    "print('RF SKLEARN AUC SCORE: %.3f' % auc_rfc_sk)\n",
    "print('LR CUML AUC SCORE: %.3f' % auc_lr_cuml )\n",
    "print('LR SKLEARN AUC SCORE: %.3f' % auc_lr_sk)"
   ]
  },
  {
   "cell_type": "markdown",
   "metadata": {},
   "source": [
    "RESULTS"
   ]
  },
  {
   "cell_type": "markdown",
   "metadata": {},
   "source": [
    "The results from these two models(Random Forest and Logistic Regression) we can the difference between gpu(cuml) and cpu(sklearn) in terms of performing time, in fact comparing the first model(Random Forest) it shows that cuml tooks only 29.494 seconds to training the dataset against sklearn which tooks almost 290.193 seconds(almost 5 minutes) for the training. In terms of accuracy both models are very close(CUML = 0.74, SKLEARN = 0.75) so there is no gap between them. This is also proved in classifiation report ,the AUC score and AUC graph with similar values. So in general the main diffference is about the time between cuml and sklearn. On the other hand I also used Logistic regression for the training and comparing them(both cuml and sklearn) with Random Forest, we can noticed that the training time is less,(For cuml only 1.555 seconds, and for sklearn just 32.082 seconds) but comparing the accuracy and testing the values is worst, in fact both of them scored 0.64. Even the AUC graph shows that the model is not too good. A final consideration is about picking the right model, which will be used to compare with the results from pca data training. The model will be Random forest in rapids. "
   ]
  },
  {
   "cell_type": "markdown",
   "metadata": {},
   "source": [
    "PCA"
   ]
  },
  {
   "cell_type": "markdown",
   "metadata": {},
   "source": [
    "Now i will apply pca on the origiinal dataset to reduce the dimension. With the dimension reduce, i will save data(pca data) and train it, and also to compare the results between the original dataset and pca dataset. "
   ]
  },
  {
   "cell_type": "code",
   "execution_count": 11,
   "metadata": {},
   "outputs": [],
   "source": [
    "feat = [\"lepton pT\", \"lepton eta\", \"lepton phi\", \"missing energy magnitude\", \"missing energy phi\", \n",
    "        \"jet 1 pt\", \"jet 1 eta\", \"jet 1 phi\", \"jet 1 b-tag\", \"jet 2 pt\", \"jet 2 eta\", \n",
    "        \"jet 2 phi\", \"jet 2 b-tag\", \"jet 3 pt\", \"jet 3 eta\", \"jet 3 phi\", \"jet 3 b-tag\",\n",
    "        \"jet 4 pt\", \"jet 4 eta\", \"jet 4 phi\", \"jet 4 b-tag\", \"m_jj\", \"m_jjj\",\n",
    "        \"m_lv\", \"m_jlv\", \"m_bb\", \"m_wbb\", \"m_wwbb\"]"
   ]
  },
  {
   "cell_type": "markdown",
   "metadata": {},
   "source": [
    "Creating a variable"
   ]
  },
  {
   "cell_type": "code",
   "execution_count": 12,
   "metadata": {},
   "outputs": [],
   "source": [
    "X = pandas_df.loc[:, feat].values\n",
    "yy = pandas_df['Label'].values "
   ]
  },
  {
   "cell_type": "markdown",
   "metadata": {},
   "source": [
    "Setting the independent variable"
   ]
  },
  {
   "cell_type": "code",
   "execution_count": 13,
   "metadata": {},
   "outputs": [],
   "source": [
    "scaler = StandardScaler()\n",
    "scaler.fit(X)\n",
    "x_scaled = scaler.transform(X)"
   ]
  },
  {
   "cell_type": "markdown",
   "metadata": {},
   "source": [
    "Normalization of the X variable"
   ]
  },
  {
   "cell_type": "code",
   "execution_count": 14,
   "metadata": {},
   "outputs": [],
   "source": [
    "x_scaled = pd.DataFrame(x_scaled)"
   ]
  },
  {
   "cell_type": "code",
   "execution_count": 15,
   "metadata": {},
   "outputs": [],
   "source": [
    "x_scaled_cudf = cudf.DataFrame.from_pandas(x_scaled)"
   ]
  },
  {
   "cell_type": "markdown",
   "metadata": {},
   "source": [
    "Coverting from the pandas dataframe to cudf dataframe. "
   ]
  },
  {
   "cell_type": "code",
   "execution_count": 16,
   "metadata": {},
   "outputs": [
    {
     "name": "stdout",
     "output_type": "stream",
     "text": [
      "[W] [17:03:39.542241] Warning(`_build_params`): As of v0.16, PCA invoked without an n_components argument defauts to using min(n_samples, n_features) rather than 1\n"
     ]
    },
    {
     "data": {
      "image/png": "[encoded data removed]",
      "text/plain": [
       "<Figure size 864x432 with 1 Axes>"
      ]
     },
     "metadata": {
      "needs_background": "light"
     },
     "output_type": "display_data"
    }
   ],
   "source": [
    "pca = PCA().fit(x_scaled_cudf)\n",
    "\n",
    "%matplotlib inline\n",
    "plt.rcParams[\"figure.figsize\"] = (12,6)\n",
    "\n",
    "fig, ax = plt.subplots()\n",
    "xi = np.arange(1, 29, step=1)\n",
    "y = np.cumsum(pca.explained_variance_ratio_)\n",
    "\n",
    "plt.ylim(0.0,1.1)\n",
    "plt.plot(xi, y, marker='o', linestyle='--', color='b')\n",
    "\n",
    "plt.xlabel('Number of Components')\n",
    "plt.xticks(np.arange(0, 28, step=1)) \n",
    "plt.ylabel('Cumulative variance (%)')\n",
    "plt.title('The number of components needed')\n",
    "\n",
    "plt.axhline(y=1, color='r', linestyle='-')\n",
    "plt.text(0.5, 0.85, '100% cut-off threshold', color = 'red', fontsize=16)\n",
    "\n",
    "ax.grid(axis='x')\n",
    "plt.show()"
   ]
  },
  {
   "cell_type": "markdown",
   "metadata": {},
   "source": [
    "This section is about investigation on the importance of the features, which will also lead into the dimensional reduction(pca). We can see that 100% of the information of the dataset is contain from the 25th feature up to the 28th. For this task i decided to use all the infromation(100) of the dataset, so for the pca i will set my n_components to 25(which is nearly 100%)."
   ]
  },
  {
   "cell_type": "code",
   "execution_count": 17,
   "metadata": {},
   "outputs": [
    {
     "data": {
      "image/png": "[encoded data removed]",
      "text/plain": [
       "<Figure size 864x432 with 1 Axes>"
      ]
     },
     "metadata": {
      "needs_background": "light"
     },
     "output_type": "display_data"
    },
    {
     "data": {
      "text/plain": [
       "array([0.14872415, 0.06657891, 0.0643318 , 0.05030652, 0.04787667,\n",
       "       0.04717513, 0.04624252, 0.04447018, 0.04202115, 0.03919037,\n",
       "       0.03852236, 0.03773924, 0.03665178, 0.03086374, 0.03049652,\n",
       "       0.02833065, 0.02791554, 0.02677562, 0.02602197, 0.02209076,\n",
       "       0.02066551, 0.01861405, 0.01771141, 0.01406677, 0.01074936,\n",
       "       0.00764028, 0.0054934 , 0.00273363])"
      ]
     },
     "execution_count": 17,
     "metadata": {},
     "output_type": "execute_result"
    }
   ],
   "source": [
    "plt.plot(range(0,28), pca.explained_variance_ratio_)\n",
    "plt.ylabel('Explained Variance')\n",
    "plt.xlabel('Principal Components')\n",
    "plt.title('Explained Variance Ratio')\n",
    "plt.show()\n",
    "pca.explained_variance_ratio_"
   ]
  },
  {
   "cell_type": "markdown",
   "metadata": {},
   "source": [
    "As is very difficult to rappresent 28 components on a pca graph, i decide to return the pca.explained_variance_ratio_ object, which is more easier to show on a two-dimensional graph. This graphs shows where the most of the information of the dataset is contain. "
   ]
  },
  {
   "cell_type": "code",
   "execution_count": 18,
   "metadata": {},
   "outputs": [
    {
     "data": {
      "image/png": "[encoded data removed]",
      "text/plain": [
       "<Figure size 1080x576 with 1 Axes>"
      ]
     },
     "metadata": {
      "needs_background": "light"
     },
     "output_type": "display_data"
    }
   ],
   "source": [
    "pca_data = pd.DataFrame({'var':pca.explained_variance_ratio_,\n",
    "             'PC':[\"PC1\", \"PC2\", \"PC3\", \"PC4\", \"PC5\", \"PC6\",\n",
    "           \"PC7\", \"PC8\", \"PC9\", \"PC10\", \"PC11\", \"PC12\",\n",
    "           \"PC13\", \"PC14\", \"PC15\", \"PC16\", \"PC17\", \"PC18\",\n",
    "           \"PC19\",  \"PC20\", \"PC21\", \"PC22\", \"PC23\",\n",
    "           \"PC24\", \"PC25\", \"PC26\", \"PC27\", \"PC28\"]})\n",
    "plt.figure(figsize=(15,8))\n",
    "ax = sns.barplot(x='PC',y=\"var\", data=pca_data,  color='c');"
   ]
  },
  {
   "cell_type": "markdown",
   "metadata": {},
   "source": [
    "This plot shows clearly how the information of pca variance is distrubed."
   ]
  },
  {
   "cell_type": "code",
   "execution_count": 20,
   "metadata": {},
   "outputs": [],
   "source": [
    "pca_gpu = PCA_GPU(n_components=25)"
   ]
  },
  {
   "cell_type": "markdown",
   "metadata": {},
   "source": [
    "I decided to set my n_componens to 25 becuase according the previous operations, the 100% of the information is contained in up to the 25th feature."
   ]
  },
  {
   "cell_type": "code",
   "execution_count": 21,
   "metadata": {},
   "outputs": [
    {
     "data": {
      "text/plain": [
       "array([[-1.96415336,  1.76066385, -0.74707023, ..., -0.5525216 ,\n",
       "        -0.65320265,  0.77745185],\n",
       "       [-0.5761554 ,  0.38402132,  1.74049991, ...,  0.35699683,\n",
       "        -0.41945839, -0.19406334],\n",
       "       [-0.0958208 ,  2.64503882, -0.8901239 , ...,  1.34042772,\n",
       "         0.35832964, -0.53653126],\n",
       "       ...,\n",
       "       [-0.26515819,  0.62432199,  1.92375052, ..., -0.26770665,\n",
       "         0.70357288, -0.01616201],\n",
       "       [ 3.80088071, -1.58122936,  1.48942417, ...,  1.22310667,\n",
       "         0.30248367, -1.31512746],\n",
       "       [-0.50878858, -1.98757693,  0.01976379, ...,  0.50259192,\n",
       "         0.13511803,  1.06632618]])"
      ]
     },
     "execution_count": 21,
     "metadata": {},
     "output_type": "execute_result"
    }
   ],
   "source": [
    "pca_gpu.fit(x_scaled_cudf)\n",
    "components_gpu = pca_gpu.transform(x_scaled_cudf)\n",
    "components_gpu"
   ]
  },
  {
   "cell_type": "code",
   "execution_count": 22,
   "metadata": {},
   "outputs": [
    {
     "data": {
      "text/plain": [
       "(5500001, 25)"
      ]
     },
     "execution_count": 22,
     "metadata": {},
     "output_type": "execute_result"
    }
   ],
   "source": [
    "components_gpu.shape"
   ]
  },
  {
   "cell_type": "markdown",
   "metadata": {},
   "source": [
    "This is the shape after applying the pca(with gpu). The 28 principal components will contain the most of information from the original dataset."
   ]
  },
  {
   "cell_type": "code",
   "execution_count": 23,
   "metadata": {},
   "outputs": [],
   "source": [
    "pandas_df = cudf.DataFrame(components_gpu, columns = [\"PC1\", \"PC2\", \"PC3\", \"PC4\", \"PC5\", \"PC6\",\n",
    "           \"PC7\", \"PC8\", \"PC9\", \"PC10\", \"PC11\", \"PC12\",\n",
    "           \"PC13\", \"PC14\", \"PC15\", \"PC16\", \"PC17\", \"PC18\",\n",
    "           \"PC19\",  \"PC20\", \"PC21\", \"PC22\", \"PC23\",\n",
    "           \"PC24\", \"PC25\"])"
   ]
  },
  {
   "cell_type": "code",
   "execution_count": 24,
   "metadata": {},
   "outputs": [
    {
     "data": {
      "text/html": [
       "<div>\n",
       "<style scoped>\n",
       "    .dataframe tbody tr th:only-of-type {\n",
       "        vertical-align: middle;\n",
       "    }\n",
       "\n",
       "    .dataframe tbody tr th {\n",
       "        vertical-align: top;\n",
       "    }\n",
       "\n",
       "    .dataframe thead th {\n",
       "        text-align: right;\n",
       "    }\n",
       "</style>\n",
       "<table border=\"1\" class=\"dataframe\">\n",
       "  <thead>\n",
       "    <tr style=\"text-align: right;\">\n",
       "      <th></th>\n",
       "      <th>PC1</th>\n",
       "      <th>PC2</th>\n",
       "      <th>PC3</th>\n",
       "      <th>PC4</th>\n",
       "      <th>PC5</th>\n",
       "      <th>PC6</th>\n",
       "      <th>PC7</th>\n",
       "      <th>PC8</th>\n",
       "      <th>PC9</th>\n",
       "      <th>PC10</th>\n",
       "      <th>...</th>\n",
       "      <th>PC16</th>\n",
       "      <th>PC17</th>\n",
       "      <th>PC18</th>\n",
       "      <th>PC19</th>\n",
       "      <th>PC20</th>\n",
       "      <th>PC21</th>\n",
       "      <th>PC22</th>\n",
       "      <th>PC23</th>\n",
       "      <th>PC24</th>\n",
       "      <th>PC25</th>\n",
       "    </tr>\n",
       "  </thead>\n",
       "  <tbody>\n",
       "    <tr>\n",
       "      <th>0</th>\n",
       "      <td>-1.964153</td>\n",
       "      <td>1.760664</td>\n",
       "      <td>-0.747070</td>\n",
       "      <td>0.252116</td>\n",
       "      <td>1.887315</td>\n",
       "      <td>0.270997</td>\n",
       "      <td>0.309326</td>\n",
       "      <td>-0.075868</td>\n",
       "      <td>-0.469017</td>\n",
       "      <td>1.421609</td>\n",
       "      <td>...</td>\n",
       "      <td>-0.737102</td>\n",
       "      <td>-0.290454</td>\n",
       "      <td>0.297171</td>\n",
       "      <td>-1.258886</td>\n",
       "      <td>0.626395</td>\n",
       "      <td>0.227698</td>\n",
       "      <td>-0.382763</td>\n",
       "      <td>-0.552522</td>\n",
       "      <td>-0.653203</td>\n",
       "      <td>0.777452</td>\n",
       "    </tr>\n",
       "    <tr>\n",
       "      <th>1</th>\n",
       "      <td>-0.576155</td>\n",
       "      <td>0.384021</td>\n",
       "      <td>1.740500</td>\n",
       "      <td>-0.093920</td>\n",
       "      <td>-0.088229</td>\n",
       "      <td>-0.997152</td>\n",
       "      <td>-0.460611</td>\n",
       "      <td>-0.382071</td>\n",
       "      <td>0.504257</td>\n",
       "      <td>1.805403</td>\n",
       "      <td>...</td>\n",
       "      <td>-0.807582</td>\n",
       "      <td>-0.248147</td>\n",
       "      <td>-0.167485</td>\n",
       "      <td>0.945883</td>\n",
       "      <td>-0.271365</td>\n",
       "      <td>-0.605583</td>\n",
       "      <td>0.227929</td>\n",
       "      <td>0.356997</td>\n",
       "      <td>-0.419458</td>\n",
       "      <td>-0.194063</td>\n",
       "    </tr>\n",
       "    <tr>\n",
       "      <th>2</th>\n",
       "      <td>-0.095821</td>\n",
       "      <td>2.645039</td>\n",
       "      <td>-0.890124</td>\n",
       "      <td>-2.251195</td>\n",
       "      <td>-0.682610</td>\n",
       "      <td>0.680494</td>\n",
       "      <td>-2.788675</td>\n",
       "      <td>-1.296543</td>\n",
       "      <td>-0.350235</td>\n",
       "      <td>-0.838523</td>\n",
       "      <td>...</td>\n",
       "      <td>-0.655744</td>\n",
       "      <td>1.212388</td>\n",
       "      <td>1.088283</td>\n",
       "      <td>-0.031887</td>\n",
       "      <td>2.038655</td>\n",
       "      <td>-0.499807</td>\n",
       "      <td>0.343053</td>\n",
       "      <td>1.340428</td>\n",
       "      <td>0.358330</td>\n",
       "      <td>-0.536531</td>\n",
       "    </tr>\n",
       "    <tr>\n",
       "      <th>3</th>\n",
       "      <td>-0.398550</td>\n",
       "      <td>1.863880</td>\n",
       "      <td>0.701064</td>\n",
       "      <td>-0.078007</td>\n",
       "      <td>0.754616</td>\n",
       "      <td>1.556185</td>\n",
       "      <td>1.246507</td>\n",
       "      <td>-0.011947</td>\n",
       "      <td>0.075897</td>\n",
       "      <td>-0.231090</td>\n",
       "      <td>...</td>\n",
       "      <td>-0.228242</td>\n",
       "      <td>-0.021424</td>\n",
       "      <td>0.162826</td>\n",
       "      <td>0.846384</td>\n",
       "      <td>-0.536100</td>\n",
       "      <td>0.714938</td>\n",
       "      <td>0.138502</td>\n",
       "      <td>0.400129</td>\n",
       "      <td>0.232056</td>\n",
       "      <td>-0.225543</td>\n",
       "    </tr>\n",
       "    <tr>\n",
       "      <th>4</th>\n",
       "      <td>-2.215189</td>\n",
       "      <td>2.013669</td>\n",
       "      <td>-0.364618</td>\n",
       "      <td>1.080283</td>\n",
       "      <td>0.904778</td>\n",
       "      <td>1.076627</td>\n",
       "      <td>-0.520341</td>\n",
       "      <td>-1.524756</td>\n",
       "      <td>0.181185</td>\n",
       "      <td>-0.378495</td>\n",
       "      <td>...</td>\n",
       "      <td>0.354673</td>\n",
       "      <td>-0.076844</td>\n",
       "      <td>-0.270368</td>\n",
       "      <td>0.415847</td>\n",
       "      <td>-0.968753</td>\n",
       "      <td>0.020341</td>\n",
       "      <td>-0.319988</td>\n",
       "      <td>-1.603124</td>\n",
       "      <td>0.871299</td>\n",
       "      <td>0.335944</td>\n",
       "    </tr>\n",
       "    <tr>\n",
       "      <th>...</th>\n",
       "      <td>...</td>\n",
       "      <td>...</td>\n",
       "      <td>...</td>\n",
       "      <td>...</td>\n",
       "      <td>...</td>\n",
       "      <td>...</td>\n",
       "      <td>...</td>\n",
       "      <td>...</td>\n",
       "      <td>...</td>\n",
       "      <td>...</td>\n",
       "      <td>...</td>\n",
       "      <td>...</td>\n",
       "      <td>...</td>\n",
       "      <td>...</td>\n",
       "      <td>...</td>\n",
       "      <td>...</td>\n",
       "      <td>...</td>\n",
       "      <td>...</td>\n",
       "      <td>...</td>\n",
       "      <td>...</td>\n",
       "      <td>...</td>\n",
       "    </tr>\n",
       "    <tr>\n",
       "      <th>5499996</th>\n",
       "      <td>-1.989542</td>\n",
       "      <td>-0.127545</td>\n",
       "      <td>-0.066712</td>\n",
       "      <td>-0.309847</td>\n",
       "      <td>1.580266</td>\n",
       "      <td>0.536635</td>\n",
       "      <td>0.402808</td>\n",
       "      <td>0.876258</td>\n",
       "      <td>1.070772</td>\n",
       "      <td>0.710399</td>\n",
       "      <td>...</td>\n",
       "      <td>-0.695719</td>\n",
       "      <td>-0.305309</td>\n",
       "      <td>-0.324547</td>\n",
       "      <td>-0.185165</td>\n",
       "      <td>-0.414855</td>\n",
       "      <td>0.306681</td>\n",
       "      <td>-0.192781</td>\n",
       "      <td>0.163383</td>\n",
       "      <td>-0.339930</td>\n",
       "      <td>-0.243608</td>\n",
       "    </tr>\n",
       "    <tr>\n",
       "      <th>5499997</th>\n",
       "      <td>-1.794679</td>\n",
       "      <td>-0.165636</td>\n",
       "      <td>-1.006112</td>\n",
       "      <td>0.455705</td>\n",
       "      <td>-1.569944</td>\n",
       "      <td>-1.169297</td>\n",
       "      <td>-0.899249</td>\n",
       "      <td>-0.626359</td>\n",
       "      <td>0.752626</td>\n",
       "      <td>0.515860</td>\n",
       "      <td>...</td>\n",
       "      <td>1.571933</td>\n",
       "      <td>-1.121320</td>\n",
       "      <td>1.100550</td>\n",
       "      <td>-1.291553</td>\n",
       "      <td>0.426613</td>\n",
       "      <td>0.817708</td>\n",
       "      <td>-0.639772</td>\n",
       "      <td>0.290045</td>\n",
       "      <td>0.014976</td>\n",
       "      <td>0.162574</td>\n",
       "    </tr>\n",
       "    <tr>\n",
       "      <th>5499998</th>\n",
       "      <td>-0.265158</td>\n",
       "      <td>0.624322</td>\n",
       "      <td>1.923751</td>\n",
       "      <td>0.366453</td>\n",
       "      <td>-0.087568</td>\n",
       "      <td>-0.936061</td>\n",
       "      <td>0.813575</td>\n",
       "      <td>-1.224564</td>\n",
       "      <td>-0.094494</td>\n",
       "      <td>-1.228852</td>\n",
       "      <td>...</td>\n",
       "      <td>0.996852</td>\n",
       "      <td>0.464224</td>\n",
       "      <td>-0.832509</td>\n",
       "      <td>-0.680105</td>\n",
       "      <td>0.291967</td>\n",
       "      <td>-0.243707</td>\n",
       "      <td>-0.146764</td>\n",
       "      <td>-0.267707</td>\n",
       "      <td>0.703573</td>\n",
       "      <td>-0.016162</td>\n",
       "    </tr>\n",
       "    <tr>\n",
       "      <th>5499999</th>\n",
       "      <td>3.800881</td>\n",
       "      <td>-1.581229</td>\n",
       "      <td>1.489424</td>\n",
       "      <td>-0.652160</td>\n",
       "      <td>-0.148411</td>\n",
       "      <td>-1.956577</td>\n",
       "      <td>0.051543</td>\n",
       "      <td>-1.239203</td>\n",
       "      <td>-0.817694</td>\n",
       "      <td>-0.481400</td>\n",
       "      <td>...</td>\n",
       "      <td>-1.409843</td>\n",
       "      <td>-0.005826</td>\n",
       "      <td>0.332608</td>\n",
       "      <td>-1.093523</td>\n",
       "      <td>-0.934953</td>\n",
       "      <td>0.322410</td>\n",
       "      <td>-0.045185</td>\n",
       "      <td>1.223107</td>\n",
       "      <td>0.302484</td>\n",
       "      <td>-1.315127</td>\n",
       "    </tr>\n",
       "    <tr>\n",
       "      <th>5500000</th>\n",
       "      <td>-0.508789</td>\n",
       "      <td>-1.987577</td>\n",
       "      <td>0.019764</td>\n",
       "      <td>-1.434196</td>\n",
       "      <td>-0.891800</td>\n",
       "      <td>-1.000720</td>\n",
       "      <td>1.488268</td>\n",
       "      <td>-1.508449</td>\n",
       "      <td>-0.022474</td>\n",
       "      <td>1.310355</td>\n",
       "      <td>...</td>\n",
       "      <td>-0.785248</td>\n",
       "      <td>-0.034888</td>\n",
       "      <td>-0.026523</td>\n",
       "      <td>1.451848</td>\n",
       "      <td>0.982488</td>\n",
       "      <td>0.028588</td>\n",
       "      <td>-0.316816</td>\n",
       "      <td>0.502592</td>\n",
       "      <td>0.135118</td>\n",
       "      <td>1.066326</td>\n",
       "    </tr>\n",
       "  </tbody>\n",
       "</table>\n",
       "<p>5500001 rows × 25 columns</p>\n",
       "</div>"
      ],
      "text/plain": [
       "              PC1       PC2       PC3       PC4       PC5       PC6       PC7  \\\n",
       "0       -1.964153  1.760664 -0.747070  0.252116  1.887315  0.270997  0.309326   \n",
       "1       -0.576155  0.384021  1.740500 -0.093920 -0.088229 -0.997152 -0.460611   \n",
       "2       -0.095821  2.645039 -0.890124 -2.251195 -0.682610  0.680494 -2.788675   \n",
       "3       -0.398550  1.863880  0.701064 -0.078007  0.754616  1.556185  1.246507   \n",
       "4       -2.215189  2.013669 -0.364618  1.080283  0.904778  1.076627 -0.520341   \n",
       "...           ...       ...       ...       ...       ...       ...       ...   \n",
       "5499996 -1.989542 -0.127545 -0.066712 -0.309847  1.580266  0.536635  0.402808   \n",
       "5499997 -1.794679 -0.165636 -1.006112  0.455705 -1.569944 -1.169297 -0.899249   \n",
       "5499998 -0.265158  0.624322  1.923751  0.366453 -0.087568 -0.936061  0.813575   \n",
       "5499999  3.800881 -1.581229  1.489424 -0.652160 -0.148411 -1.956577  0.051543   \n",
       "5500000 -0.508789 -1.987577  0.019764 -1.434196 -0.891800 -1.000720  1.488268   \n",
       "\n",
       "              PC8       PC9      PC10  ...      PC16      PC17      PC18  \\\n",
       "0       -0.075868 -0.469017  1.421609  ... -0.737102 -0.290454  0.297171   \n",
       "1       -0.382071  0.504257  1.805403  ... -0.807582 -0.248147 -0.167485   \n",
       "2       -1.296543 -0.350235 -0.838523  ... -0.655744  1.212388  1.088283   \n",
       "3       -0.011947  0.075897 -0.231090  ... -0.228242 -0.021424  0.162826   \n",
       "4       -1.524756  0.181185 -0.378495  ...  0.354673 -0.076844 -0.270368   \n",
       "...           ...       ...       ...  ...       ...       ...       ...   \n",
       "5499996  0.876258  1.070772  0.710399  ... -0.695719 -0.305309 -0.324547   \n",
       "5499997 -0.626359  0.752626  0.515860  ...  1.571933 -1.121320  1.100550   \n",
       "5499998 -1.224564 -0.094494 -1.228852  ...  0.996852  0.464224 -0.832509   \n",
       "5499999 -1.239203 -0.817694 -0.481400  ... -1.409843 -0.005826  0.332608   \n",
       "5500000 -1.508449 -0.022474  1.310355  ... -0.785248 -0.034888 -0.026523   \n",
       "\n",
       "             PC19      PC20      PC21      PC22      PC23      PC24      PC25  \n",
       "0       -1.258886  0.626395  0.227698 -0.382763 -0.552522 -0.653203  0.777452  \n",
       "1        0.945883 -0.271365 -0.605583  0.227929  0.356997 -0.419458 -0.194063  \n",
       "2       -0.031887  2.038655 -0.499807  0.343053  1.340428  0.358330 -0.536531  \n",
       "3        0.846384 -0.536100  0.714938  0.138502  0.400129  0.232056 -0.225543  \n",
       "4        0.415847 -0.968753  0.020341 -0.319988 -1.603124  0.871299  0.335944  \n",
       "...           ...       ...       ...       ...       ...       ...       ...  \n",
       "5499996 -0.185165 -0.414855  0.306681 -0.192781  0.163383 -0.339930 -0.243608  \n",
       "5499997 -1.291553  0.426613  0.817708 -0.639772  0.290045  0.014976  0.162574  \n",
       "5499998 -0.680105  0.291967 -0.243707 -0.146764 -0.267707  0.703573 -0.016162  \n",
       "5499999 -1.093523 -0.934953  0.322410 -0.045185  1.223107  0.302484 -1.315127  \n",
       "5500000  1.451848  0.982488  0.028588 -0.316816  0.502592  0.135118  1.066326  \n",
       "\n",
       "[5500001 rows x 25 columns]"
      ]
     },
     "execution_count": 24,
     "metadata": {},
     "output_type": "execute_result"
    }
   ],
   "source": [
    "pandas_df"
   ]
  },
  {
   "cell_type": "code",
   "execution_count": 25,
   "metadata": {},
   "outputs": [
    {
     "data": {
      "text/plain": [
       "array([1., 1., 1., ..., 0., 0., 1.])"
      ]
     },
     "execution_count": 25,
     "metadata": {},
     "output_type": "execute_result"
    }
   ],
   "source": [
    "yy"
   ]
  },
  {
   "cell_type": "code",
   "execution_count": 26,
   "metadata": {},
   "outputs": [],
   "source": [
    "X_train, X_test, y_train, y_test = train_test_split(X, yy, test_size=0.2)"
   ]
  },
  {
   "cell_type": "code",
   "execution_count": 27,
   "metadata": {},
   "outputs": [],
   "source": [
    "X_train, X_test = X_train.astype(np.float32), X_test.astype(np.float32)"
   ]
  },
  {
   "cell_type": "markdown",
   "metadata": {},
   "source": [
    "Spliting the dataset same as done for the original dataset, i also set the X_train, X_test to np.float32 so i can run the testing on the gpu"
   ]
  },
  {
   "cell_type": "code",
   "execution_count": 28,
   "metadata": {},
   "outputs": [
    {
     "data": {
      "text/plain": [
       "(1100001, 28)"
      ]
     },
     "execution_count": 28,
     "metadata": {},
     "output_type": "execute_result"
    }
   ],
   "source": [
    "X_test.shape"
   ]
  },
  {
   "cell_type": "markdown",
   "metadata": {},
   "source": [
    "TRAINING THE PCA DATA WITH RANDOM FOREST AND LOGISTIC REGRESSION"
   ]
  },
  {
   "cell_type": "markdown",
   "metadata": {},
   "source": [
    "RANDOM FOREST"
   ]
  },
  {
   "cell_type": "code",
   "execution_count": 29,
   "metadata": {},
   "outputs": [],
   "source": [
    "cu_rf_params = {\n",
    "'n_estimators': 25, \n",
    "'max_depth': 25,\n",
    "'max_features': 'auto',\n",
    "'n_bins': 8,  \n",
    "'bootstrap': False,\n",
    "'seed' : 0\n",
    "}\n",
    "pca_cu_rf = cuRF(**cu_rf_params)"
   ]
  },
  {
   "cell_type": "code",
   "execution_count": 30,
   "metadata": {},
   "outputs": [
    {
     "name": "stdout",
     "output_type": "stream",
     "text": [
      "CuMl PCA Random Forest training Time: 5.858 seconds\n"
     ]
    }
   ],
   "source": [
    "tmp = time.time()\n",
    "pca_cu_rf.fit(X_train, y_train)\n",
    "gpu_time = time.time() - tmp\n",
    "print(\"CuMl PCA Random Forest training Time: %s seconds\" % (str(round(gpu_time,3))))"
   ]
  },
  {
   "cell_type": "code",
   "execution_count": 31,
   "metadata": {},
   "outputs": [
    {
     "name": "stdout",
     "output_type": "stream",
     "text": [
      "0.7284739017486572\n",
      "CuMl Random Forest Testing Time: 13.768 seconds\n"
     ]
    }
   ],
   "source": [
    "tmp = time.time()\n",
    "cu_pca_preds = pca_cu_rf.predict(X_test)\n",
    "gpu_time = time.time() - tmp\n",
    "print(cuml.metrics.accuracy_score(y_test, cu_pca_preds))\n",
    "print(\"CuMl Random Forest Testing Time: %s seconds\" % (str(round(gpu_time,3))))"
   ]
  },
  {
   "cell_type": "code",
   "execution_count": 32,
   "metadata": {},
   "outputs": [],
   "source": [
    "skl_rf_params = {\n",
    "        'n_estimators': 25,\n",
    "        'max_depth': 25,\n",
    "        'random_state' : 0,\n",
    "    }\n",
    "pca_skl_rf = sklRF( n_jobs=-1)"
   ]
  },
  {
   "cell_type": "code",
   "execution_count": 33,
   "metadata": {},
   "outputs": [
    {
     "name": "stdout",
     "output_type": "stream",
     "text": [
      "Sklearn PCA Random Forest Training Time: 299.483 seconds\n"
     ]
    }
   ],
   "source": [
    "tmp = time.time()\n",
    "pca_skl_rf.fit(X_train, y_train)\n",
    "cpu_time = time.time() - tmp\n",
    "print(\"Sklearn PCA Random Forest Training Time: %s seconds\" % (str(round(cpu_time,3))))"
   ]
  },
  {
   "cell_type": "code",
   "execution_count": 34,
   "metadata": {},
   "outputs": [
    {
     "name": "stdout",
     "output_type": "stream",
     "text": [
      "Sklearn PCA Random Forest Testing Time: 7.975 seconds\n",
      "0.747522956797312\n"
     ]
    }
   ],
   "source": [
    "tmp = time.time()\n",
    "sk_pca_preds = pca_skl_rf.predict(X_test)\n",
    "cpu_time = time.time() - tmp\n",
    "print(\"Sklearn PCA Random Forest Testing Time: %s seconds\" % (str(round(cpu_time,3))))\n",
    "print(sklearn.metrics.accuracy_score(y_test, sk_pca_preds ))"
   ]
  },
  {
   "cell_type": "code",
   "execution_count": 35,
   "metadata": {},
   "outputs": [
    {
     "name": "stdout",
     "output_type": "stream",
     "text": [
      "CuMl PCA RF confusion matrix Time: 2.231 seconds\n",
      " cuml con matri : \n",
      "[[368419 148976]\n",
      " [149703 432903]]\n"
     ]
    }
   ],
   "source": [
    "tmp = time.time()\n",
    "cu_pca_preds = pca_cu_rf.predict(X_test)\n",
    "cu_conf_mat = confusion_matrix(y_test, cu_pca_preds)\n",
    "gpu_time = time.time() - tmp\n",
    "print(\"CuMl PCA RF confusion matrix Time: %s seconds\" % (str(round(gpu_time,3))))\n",
    "print(\" cuml con matri : \")\n",
    "print(cu_conf_mat)"
   ]
  },
  {
   "cell_type": "code",
   "execution_count": 36,
   "metadata": {},
   "outputs": [
    {
     "name": "stdout",
     "output_type": "stream",
     "text": [
      "              precision    recall  f1-score   support\n",
      "\n",
      "         0.0       0.71      0.71      0.71    517395\n",
      "         1.0       0.74      0.74      0.74    582606\n",
      "\n",
      "    accuracy                           0.73   1100001\n",
      "   macro avg       0.73      0.73      0.73   1100001\n",
      "weighted avg       0.73      0.73      0.73   1100001\n",
      "\n",
      "CuMl PCA RF classification_report Time: 1.66 seconds\n"
     ]
    }
   ],
   "source": [
    "tmp = time.time()\n",
    "print(classification_report(y_test,cu_pca_preds, zero_division=1))\n",
    "gpu_time = time.time() - tmp\n",
    "print(\"CuMl PCA RF classification_report Time: %s seconds\" % (str(round(gpu_time,3))))"
   ]
  },
  {
   "cell_type": "code",
   "execution_count": 37,
   "metadata": {},
   "outputs": [
    {
     "name": "stdout",
     "output_type": "stream",
     "text": [
      " Sklearn con matri : \n",
      "[[377291 140104]\n",
      " [137621 444985]]\n",
      "Sklearn PCA RF confusion matrix Testing Time: 7.839 seconds\n"
     ]
    }
   ],
   "source": [
    "tmp = time.time()\n",
    "sk_pca_preds = pca_skl_rf.predict(X_test)\n",
    "cpu_time = time.time() - tmp\n",
    "print(\" Sklearn con matri : \")\n",
    "print(confusion_matrix(y_test,sk_pca_preds))\n",
    "print(\"Sklearn PCA RF confusion matrix Testing Time: %s seconds\" % (str(round(cpu_time,3))))"
   ]
  },
  {
   "cell_type": "code",
   "execution_count": 38,
   "metadata": {},
   "outputs": [
    {
     "name": "stdout",
     "output_type": "stream",
     "text": [
      "              precision    recall  f1-score   support\n",
      "\n",
      "         0.0       0.73      0.73      0.73    517395\n",
      "         1.0       0.76      0.76      0.76    582606\n",
      "\n",
      "    accuracy                           0.75   1100001\n",
      "   macro avg       0.75      0.75      0.75   1100001\n",
      "weighted avg       0.75      0.75      0.75   1100001\n",
      "\n",
      "Sklearn PCA RF classification_report Time: 1.652 seconds\n"
     ]
    }
   ],
   "source": [
    "tmp = time.time()\n",
    "print(classification_report(y_test,sk_pca_preds, zero_division=1))\n",
    "cpu_time = time.time() - tmp\n",
    "print(\"Sklearn PCA RF classification_report Time: %s seconds\" % (str(round(cpu_time,3))))"
   ]
  },
  {
   "cell_type": "markdown",
   "metadata": {},
   "source": [
    "RESULTS"
   ]
  },
  {
   "cell_type": "markdown",
   "metadata": {},
   "source": [
    "After performing pca on the original dataset and reducing the dimension up to 25 (which is the endpoint where 100% of information is contain). The results shows no improving in accuracy in these two models(RF CUML AND SKLEARN) in comparition with the original data performance, for the sklearn both (original data and pca data) the accuracy is the same but in cuml the original data performs better than pca data. These results are very interesting, because it shows that on this dataset (pca) is not really improving as we can see in the accuracy. In relation with the time performing it looks like the pca training is  a bit fast(), most likely because there are less features. On the other classification(Logistic Regression),the results a very similar them the original dataset and the pca dataset. So overall the original dataset performs better."
   ]
  },
  {
   "cell_type": "markdown",
   "metadata": {},
   "source": [
    "LOGISTIC REGRESSION"
   ]
  },
  {
   "cell_type": "code",
   "execution_count": 39,
   "metadata": {},
   "outputs": [
    {
     "name": "stdout",
     "output_type": "stream",
     "text": [
      "CuMl PCA Logistic Regression training Time: 0.999 seconds\n"
     ]
    }
   ],
   "source": [
    "tmp = time.time()\n",
    "lr_pca_cuml=LogisticRegression(C= 1000, max_iter= 10000, penalty= 'l2', solver= 'qn')\n",
    "lr_pca_cuml.fit(X_train, y_train)\n",
    "gpu_time = time.time() - tmp\n",
    "print(\"CuMl PCA Logistic Regression training Time: %s seconds\" % (str(round(gpu_time,3))))"
   ]
  },
  {
   "cell_type": "code",
   "execution_count": 40,
   "metadata": {},
   "outputs": [
    {
     "name": "stdout",
     "output_type": "stream",
     "text": [
      "0.6413066983222961\n",
      "CuMl PCA Logistic Regression Testing Time: 0.136 seconds\n"
     ]
    }
   ],
   "source": [
    "tmp = time.time()\n",
    "lr_pac_pred = lr_pca_cuml.predict(X_test)\n",
    "gpu_time = time.time() - tmp\n",
    "print(cuml.metrics.accuracy_score(y_test, lr_pac_pred))\n",
    "print(\"CuMl PCA Logistic Regression Testing Time: %s seconds\" % (str(round(gpu_time,3))))"
   ]
  },
  {
   "cell_type": "code",
   "execution_count": 41,
   "metadata": {},
   "outputs": [
    {
     "name": "stdout",
     "output_type": "stream",
     "text": [
      "Sklearn PCA Logistic Regression training Time: 34.272 seconds\n"
     ]
    }
   ],
   "source": [
    "tmp = time.time()\n",
    "logis_pca= logis(C= 1000, max_iter= 10000, penalty= 'l2', solver= 'newton-cg')\n",
    "logis_pca.fit(X_train, y_train)\n",
    "cpu_time = time.time() - tmp\n",
    "print(\"Sklearn PCA Logistic Regression training Time: %s seconds\" % (str(round(cpu_time,3))))"
   ]
  },
  {
   "cell_type": "code",
   "execution_count": 42,
   "metadata": {},
   "outputs": [
    {
     "name": "stdout",
     "output_type": "stream",
     "text": [
      "0.6412248716137531\n",
      "Sklearn PCA Logistic Regression Testing Time: 0.028 seconds\n"
     ]
    }
   ],
   "source": [
    "tmp = time.time()\n",
    "logis_pca_pred = logis_pca.predict(X_test)\n",
    "cpu_time = time.time() - tmp\n",
    "print(sklearn.metrics.accuracy_score(y_test, logis_pca_pred))\n",
    "print(\"Sklearn PCA Logistic Regression Testing Time: %s seconds\" % (str(round(cpu_time,3))))"
   ]
  },
  {
   "cell_type": "code",
   "execution_count": 43,
   "metadata": {},
   "outputs": [
    {
     "name": "stdout",
     "output_type": "stream",
     "text": [
      "CuMl PCA LR confusion matrix Time: 0.695 seconds\n",
      " cuml con matri : \n",
      "[[273715 243680]\n",
      " [150883 431723]]\n"
     ]
    }
   ],
   "source": [
    "tmp = time.time()\n",
    "lr_pca_pred = lr_pca_cuml.predict(X_test)\n",
    "cu_conf_mat = confusion_matrix(y_test, lr_pca_pred)\n",
    "gpu_time = time.time() - tmp\n",
    "print(\"CuMl PCA LR confusion matrix Time: %s seconds\" % (str(round(gpu_time,3))))\n",
    "print(\" cuml con matri : \")\n",
    "print(cu_conf_mat)"
   ]
  },
  {
   "cell_type": "code",
   "execution_count": 44,
   "metadata": {},
   "outputs": [
    {
     "name": "stdout",
     "output_type": "stream",
     "text": [
      "              precision    recall  f1-score   support\n",
      "\n",
      "         0.0       0.64      0.53      0.58    517395\n",
      "         1.0       0.64      0.74      0.69    582606\n",
      "\n",
      "    accuracy                           0.64   1100001\n",
      "   macro avg       0.64      0.64      0.63   1100001\n",
      "weighted avg       0.64      0.64      0.64   1100001\n",
      "\n",
      "CuMl PCA LR classification_report Time: 1.646 seconds\n"
     ]
    }
   ],
   "source": [
    "tmp = time.time()\n",
    "print(classification_report(y_test,lr_pca_pred, zero_division=1))\n",
    "gpu_time = time.time() - tmp\n",
    "print(\"CuMl PCA LR classification_report Time: %s seconds\" % (str(round(gpu_time,3))))"
   ]
  },
  {
   "cell_type": "code",
   "execution_count": 45,
   "metadata": {},
   "outputs": [
    {
     "name": "stdout",
     "output_type": "stream",
     "text": [
      " Sklearn con matri : \n",
      "[[273391 244004]\n",
      " [150649 431957]]\n",
      "Sklearn PCA LR confusion matrix Testing Time: 0.022 seconds\n"
     ]
    }
   ],
   "source": [
    "tmp = time.time()\n",
    "logis_pca_pred = logis_pca.predict(X_test)\n",
    "cpu_time = time.time() - tmp\n",
    "print(\" Sklearn con matri : \")\n",
    "print(confusion_matrix(y_test,logis_pca_pred))\n",
    "print(\"Sklearn PCA LR confusion matrix Testing Time: %s seconds\" % (str(round(cpu_time,3))))"
   ]
  },
  {
   "cell_type": "code",
   "execution_count": 46,
   "metadata": {},
   "outputs": [
    {
     "name": "stdout",
     "output_type": "stream",
     "text": [
      "              precision    recall  f1-score   support\n",
      "\n",
      "         0.0       0.64      0.53      0.58    517395\n",
      "         1.0       0.64      0.74      0.69    582606\n",
      "\n",
      "    accuracy                           0.64   1100001\n",
      "   macro avg       0.64      0.63      0.63   1100001\n",
      "weighted avg       0.64      0.64      0.64   1100001\n",
      "\n",
      "Sklearn PCA LR classification_report Time: 1.655 seconds\n"
     ]
    }
   ],
   "source": [
    "tmp = time.time()\n",
    "print(classification_report(y_test,logis_pca_pred, zero_division=1))\n",
    "cpu_time = time.time() - tmp\n",
    "print(\"Sklearn PCA LR classification_report Time: %s seconds\" % (str(round(cpu_time,3))))"
   ]
  },
  {
   "cell_type": "markdown",
   "metadata": {},
   "source": [
    "---------"
   ]
  },
  {
   "cell_type": "markdown",
   "metadata": {},
   "source": [
    "RESULTS"
   ]
  },
  {
   "cell_type": "markdown",
   "metadata": {},
   "source": [
    "After performing pca on the original dataset and reducing the dimension up to 25 (which is the endpoint where 100% of information is contain). The results shows no improving in accuracy in these two model(RF CUML AND SKLEARN) in comparition with the original data performance, for the sklearn both (original data and pca data) the accuracy is the same but in cuml the original data performs better than pca data. These results are well interesting, because it shows that on this dataset pca is not really as we the accuracy does not improved. In relation to time performing it looks like the pca training is  a bit fast, most likely because there are less features. On the other classification(Logistic Regression),the results a very similar them the original dataset and the pca dataset. So overall the original dataset performs better. As there is no improving the training and testing, i decided to not print out the AUC GRAPH becuase even just from the classification report we can understand that this training and testing(pca data) has not improved."
   ]
  },
  {
   "cell_type": "markdown",
   "metadata": {},
   "source": [
    "-----------"
   ]
  },
  {
   "cell_type": "markdown",
   "metadata": {},
   "source": [
    "FINAL RESULTS AND DISCUSSION"
   ]
  },
  {
   "cell_type": "markdown",
   "metadata": {},
   "source": [
    "For the final discussion, the discussion will focus on the original dataset. In fact as it is noticed previously, Random Forest in cuml is very fast for training in even on huge dataset in comparition with the one in sklearn, but on the other hand the results are pretty much the same. So my consideration is that the Random Forest is one of the best machine learning popular algoristms in Rapids becuase it is able to return a good model in just few seconds, and the accuracy are right. "
   ]
  },
  {
   "cell_type": "code",
   "execution_count": 54,
   "metadata": {},
   "outputs": [
    {
     "name": "stdout",
     "output_type": "stream",
     "text": [
      "AUC SCORE BETWEEN THR CLASSIFICATION(CUML AND SKLEARN):\n",
      "RF CUML AUC SCORE: 0.740 %\n",
      "RF SKLEARN AUC SCORE: 0.747 %\n",
      "LR CUML AUC SCORE: 0.635 %\n",
      "LR SKLEARN AUC SCORE: 0.635 %\n"
     ]
    }
   ],
   "source": [
    "print(\"AUC SCORE BETWEEN THE CLASSIFICATION(CUML AND SKLEARN):\")\n",
    "print(('RF CUML AUC SCORE: %.3f' % auc_rfc_cuml),('%'))\n",
    "print(('RF SKLEARN AUC SCORE: %.3f' % auc_rfc_sk),('%'))\n",
    "print(('LR CUML AUC SCORE: %.3f' % auc_lr_cuml ),('%'))\n",
    "print(('LR SKLEARN AUC SCORE: %.3f' % auc_lr_sk),('%'))"
   ]
  },
  {
   "cell_type": "markdown",
   "metadata": {},
   "source": [
    "The others metrcis such classification report, confusion matrix, and auc graph are shown in the first training section. I decided to not perform the metrcis on the pca training because i believe there are not good as the original ones "
   ]
  },
  {
   "cell_type": "code",
   "execution_count": null,
   "metadata": {},
   "outputs": [],
   "source": []
  }
 ],
 "metadata": {
  "kernelspec": {
   "display_name": "Python 3",
   "language": "python",
   "name": "python3"
  },
  "language_info": {
   "codemirror_mode": {
    "name": "ipython",
    "version": 3
   },
   "file_extension": ".py",
   "mimetype": "text/x-python",
   "name": "python",
   "nbconvert_exporter": "python",
   "pygments_lexer": "ipython3",
   "version": "3.7.7"
  }
 },
 "nbformat": 4,
 "nbformat_minor": 5
}
